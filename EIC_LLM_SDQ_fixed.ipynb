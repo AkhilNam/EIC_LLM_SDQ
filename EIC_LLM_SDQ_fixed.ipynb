{
  "cells": [
    {
      "cell_type": "code",
      "execution_count": 42,
      "metadata": {
        "colab": {
          "base_uri": "https://localhost:8080/"
        },
        "id": "9jo4vJFwUTf5",
        "outputId": "06e5c8a9-78d2-42e7-a8b1-ba2170e14723"
      },
      "outputs": [
        {
          "output_type": "stream",
          "name": "stdout",
          "text": [
            "Device: cuda\n"
          ]
        }
      ],
      "source": [
        "import os, math, random, json, pathlib, itertools, re\n",
        "from contextlib import contextmanager\n",
        "from dataclasses import dataclass\n",
        "from typing import Dict, Tuple, List, Optional\n",
        "\n",
        "import torch\n",
        "import torch.nn as nn\n",
        "import torch.nn.functional as F\n",
        "from torch.utils.data import DataLoader\n",
        "\n",
        "from transformers import AutoTokenizer, AutoModelForCausalLM, GPT2LMHeadModel, GPT2TokenizerFast\n",
        "from datasets import load_dataset\n",
        "\n",
        "import numpy as np\n",
        "import pandas as pd\n",
        "import matplotlib.pyplot as plt\n",
        "\n",
        "device = \"cuda\" if torch.cuda.is_available() else \"cpu\"\n",
        "\n",
        "# Optional: Point HF caches (edit path if you want)\n",
        "os.environ.setdefault(\"HF_HOME\", str(pathlib.Path.home() / \".cache\" / \"huggingface\"))\n",
        "os.environ.setdefault(\"HF_DATASETS_CACHE\", os.environ[\"HF_HOME\"])\n",
        "os.environ.setdefault(\"TRANSFORMERS_CACHE\", os.environ[\"HF_HOME\"])\n",
        "\n",
        "print(\"Device:\", device)\n"
      ],
      "id": "9jo4vJFwUTf5"
    },
    {
      "cell_type": "code",
      "execution_count": 43,
      "metadata": {
        "id": "lZct2ZpsUTf6"
      },
      "outputs": [],
      "source": [
        "#Cell 1: Quant helpers (scale/zp + STE)\n",
        "def calc_scale_zp_minmax(x: torch.Tensor, n_bits: int = 8, symmetric: bool = True, reduce_dim=None):\n",
        "    \"\"\"\n",
        "    Per-tensor or per-channel min-max scale/zp. If reduce_dim is a tuple of dims, we reduce over those.\n",
        "    Returns (scale, zero_point, qmin, qmax) shaped to broadcast with x.\n",
        "    \"\"\"\n",
        "    if reduce_dim is None:\n",
        "        reduce_dim = tuple(range(x.dim()))\n",
        "    x_min = x.amin(dim=reduce_dim, keepdim=True)\n",
        "    x_max = x.amax(dim=reduce_dim, keepdim=True)\n",
        "    if symmetric:\n",
        "        max_abs = torch.maximum(x_max.abs(), x_min.abs())\n",
        "        x_min = -max_abs\n",
        "        x_max = max_abs\n",
        "    qmin, qmax = 0, (1 << n_bits) - 1\n",
        "    scale = (x_max - x_min).clamp(min=1e-12) / (qmax - qmin)\n",
        "    zero_point = (-x_min / scale).round().clamp(qmin, qmax)\n",
        "    return scale, zero_point, qmin, qmax\n",
        "\n",
        "class UniformQuantizerSTE(torch.autograd.Function):\n",
        "    @staticmethod\n",
        "    def forward(ctx, x, scale, zp, qmin, qmax):\n",
        "        q = (x / scale + zp).round().clamp(qmin, qmax)\n",
        "        deq = (q - zp) * scale\n",
        "        ctx.save_for_backward(x, deq)\n",
        "        return deq\n",
        "\n",
        "    @staticmethod\n",
        "    def backward(ctx, grad_out):\n",
        "        x, deq = ctx.saved_tensors\n",
        "        # Straight-through estimator\n",
        "        return grad_out, None, None, None, None\n"
      ],
      "id": "lZct2ZpsUTf6"
    },
    {
      "cell_type": "code",
      "execution_count": 44,
      "metadata": {
        "id": "Mr94IiAaUTf6"
      },
      "outputs": [],
      "source": [
        "#Cell 2: Weight/Activation quantizers\n",
        "class PerChannelWeightQuant(nn.Module):\n",
        "    def __init__(self, n_bits: int = 8, symmetric: bool = True, ch_axis: int = 0):\n",
        "        super().__init__()\n",
        "        self.n_bits = n_bits\n",
        "        self.symmetric = symmetric\n",
        "        self.ch_axis = ch_axis\n",
        "\n",
        "    def forward(self, W: torch.Tensor):\n",
        "        # Reduce over all dims except ch_axis\n",
        "        reduce_dim = tuple([d for d in range(W.dim()) if d != self.ch_axis])\n",
        "        scale, zp, qmin, qmax = calc_scale_zp_minmax(W, n_bits=self.n_bits, symmetric=self.symmetric, reduce_dim=reduce_dim)\n",
        "        return UniformQuantizerSTE.apply(W, scale, zp, qmin, qmax)\n",
        "\n",
        "class PerTokenActQuant(nn.Module):\n",
        "    def __init__(self, n_bits: int = 8, symmetric: bool = True):\n",
        "        super().__init__()\n",
        "        self.n_bits = n_bits\n",
        "        self.symmetric = symmetric\n",
        "\n",
        "    def forward(self, X: torch.Tensor):\n",
        "        # Per-(batch, seq) token activation quant (reduce over hidden size)\n",
        "        if X.dim() == 3:\n",
        "            reduce_dim = (2,)\n",
        "        else:\n",
        "            reduce_dim = tuple(range(1, X.dim()))\n",
        "        scale, zp, qmin, qmax = calc_scale_zp_minmax(X, n_bits=self.n_bits, symmetric=self.symmetric, reduce_dim=reduce_dim)\n",
        "        return UniformQuantizerSTE.apply(X, scale, zp, qmin, qmax)\n"
      ],
      "id": "Mr94IiAaUTf6"
    },
    {
      "cell_type": "code",
      "execution_count": 45,
      "metadata": {
        "id": "TpJGnhZoUTf7"
      },
      "outputs": [],
      "source": [
        "# Cell 3: LoRA building blocks\n",
        "class LoraModule(nn.Module):\n",
        "    \"\"\"\n",
        "    Simple LoRA: y = x @ (W + sum_active(A@B)*alpha/r)^T\n",
        "    \"\"\"\n",
        "    def __init__(self, in_features, out_features, r=8, alpha=16, dropout=0.0):\n",
        "        super().__init__()\n",
        "        self.r = r\n",
        "        self.alpha = alpha\n",
        "        self.scaling = alpha / max(1, r)\n",
        "        self.A = nn.Linear(in_features, r, bias=False)\n",
        "        self.B = nn.Linear(r, out_features, bias=False)\n",
        "        nn.init.kaiming_uniform_(self.A.weight, a=math.sqrt(5))\n",
        "        nn.init.zeros_(self.B.weight)\n",
        "        self.drop = nn.Dropout(dropout) if dropout and dropout > 0 else nn.Identity()\n",
        "\n",
        "    def forward(self, x):\n",
        "        return self.drop(self.B(self.A(x))) * self.scaling\n",
        "\n",
        "class LoraRouter:\n",
        "    \"\"\"\n",
        "    Holds mapping layer_fqname -> active_adapter_name (string or None)\n",
        "    Acts as a stack (context manager) so we can temporarily switch routes.\n",
        "    \"\"\"\n",
        "    def __init__(self, mapping: Optional[Dict[str, str]] = None):\n",
        "        self.layer_to_adapter = dict(mapping) if mapping else {}\n",
        "        self._stack = []\n",
        "\n",
        "    def set_map(self, mapping: Dict[str, str]):\n",
        "        self.layer_to_adapter = dict(mapping)\n",
        "\n",
        "    def get(self, layer_fqname: str) -> Optional[str]:\n",
        "        return self.layer_to_adapter.get(layer_fqname, None)\n",
        "\n",
        "    @contextmanager\n",
        "    def use(self, mapping: Dict[str, str]):\n",
        "        self._stack.append(self.layer_to_adapter.copy())\n",
        "        try:\n",
        "            self.set_map(mapping)\n",
        "            yield\n",
        "        finally:\n",
        "            self.layer_to_adapter = self._stack.pop()\n"
      ],
      "id": "TpJGnhZoUTf7"
    },
    {
      "cell_type": "code",
      "execution_count": 46,
      "metadata": {
        "id": "exqkfzDkUTf7"
      },
      "outputs": [],
      "source": [
        "# Cell 4: QuantLinear/Conv1D with multi-adapter LoRA\n",
        "class QuantLinear(nn.Module):\n",
        "    def __init__(self, base_linear: nn.Linear, w_bits=8, a_bits=8, w_symmetric=True, a_symmetric=True, fqname: str = \"\"):\n",
        "        super().__init__()\n",
        "        self.fqname = fqname\n",
        "        self.base = base_linear\n",
        "        self.in_features = base_linear.in_features\n",
        "        self.out_features = base_linear.out_features\n",
        "        self.has_bias = base_linear.bias is not None\n",
        "\n",
        "        # bit settings (mutable)\n",
        "        self.w_bits = w_bits\n",
        "        self.a_bits = a_bits\n",
        "        self.w_symmetric = w_symmetric\n",
        "        self.a_symmetric = a_symmetric\n",
        "\n",
        "        # quantizers (rebuilt on bit change)\n",
        "        self.wq = PerChannelWeightQuant(n_bits=self.w_bits, symmetric=self.w_symmetric, ch_axis=0)\n",
        "        self.aq = PerTokenActQuant(n_bits=self.a_bits, symmetric=self.a_symmetric) if self.a_bits else None\n",
        "\n",
        "        # multi-adapter LoRA registry: name -> LoraModule\n",
        "        self.adapters = nn.ModuleDict()\n",
        "\n",
        "        # freeze base weight; train only lora by default\n",
        "        self.base.weight.requires_grad_(False)\n",
        "        if self.has_bias:\n",
        "            self.base.bias.requires_grad_(False)\n",
        "\n",
        "    def add_adapter(self, name: str, r=8, alpha=16, dropout=0.0):\n",
        "        if name not in self.adapters:\n",
        "            self.adapters[name] = LoraModule(self.in_features, self.out_features, r=r, alpha=alpha, dropout=dropout)\n",
        "\n",
        "    def set_precision(self, w_bits=None, a_bits=None, w_symmetric=None, a_symmetric=None):\n",
        "        if w_bits is not None and w_bits != self.w_bits:\n",
        "            self.w_bits = int(w_bits)\n",
        "            self.wq = PerChannelWeightQuant(n_bits=self.w_bits, symmetric=self.w_symmetric, ch_axis=0)\n",
        "        if a_bits is not None and a_bits != self.a_bits:\n",
        "            self.a_bits = None if a_bits in (0, None) else int(a_bits)\n",
        "            self.aq = None if self.a_bits is None else PerTokenActQuant(n_bits=self.a_bits, symmetric=self.a_symmetric)\n",
        "        if w_symmetric is not None:\n",
        "            self.w_symmetric = bool(w_symmetric)\n",
        "            self.wq = PerChannelWeightQuant(n_bits=self.w_bits, symmetric=self.w_symmetric, ch_axis=0)\n",
        "        if a_symmetric is not None:\n",
        "            self.a_symmetric = bool(a_symmetric)\n",
        "            self.aq = None if self.a_bits is None else PerTokenActQuant(n_bits=self.a_bits, symmetric=self.a_symmetric)\n",
        "\n",
        "    def forward(self, x, active_adapter: Optional[str] = None):\n",
        "        W = self.base.weight\n",
        "        if active_adapter and active_adapter in self.adapters:\n",
        "            if x.dim() == 3: xx = x\n",
        "            else: xx = x.unsqueeze(0).unsqueeze(0)\n",
        "            delta = self.adapters[active_adapter](xx)\n",
        "            if self.aq:\n",
        "                xx = self.aq(xx)\n",
        "            y = F.linear(xx, self.wq(W))\n",
        "            y = y + delta\n",
        "            if x.dim() == 2: y = y.squeeze(0).squeeze(0)\n",
        "            if self.has_bias: y = y + self.base.bias\n",
        "            return y\n",
        "        else:\n",
        "            if self.aq: x = self.aq(x)\n",
        "            Wq = self.wq(W)\n",
        "            return F.linear(x, Wq, self.base.bias)\n",
        "\n",
        "class QuantConv1D(QuantLinear):\n",
        "    \"\"\"\n",
        "    HF GPT-2 Conv1D stores weight as (in_features, out_features) and bias as (out_features,).\n",
        "    Build an equivalent nn.Linear(in_features, out_features) and TRANSPOSE the weight when copying.\n",
        "    \"\"\"\n",
        "    def __init__(self, base_conv, **kw):\n",
        "        in_f, out_f = base_conv.weight.shape  # (in, out) in HF Conv1D\n",
        "        lin = nn.Linear(in_f, out_f, bias=base_conv.bias is not None)\n",
        "        super().__init__(lin, **kw)\n",
        "        with torch.no_grad():\n",
        "            # base_linear.weight is (out, in); Conv1D.weight is (in, out) → transpose\n",
        "            self.base.weight.copy_(base_conv.weight.T)\n",
        "            if base_conv.bias is not None:\n",
        "                self.base.bias.copy_(base_conv.bias)\n"
      ],
      "id": "exqkfzDkUTf7"
    },
    {
      "cell_type": "code",
      "execution_count": 47,
      "metadata": {
        "id": "ETdpPh49UTf7"
      },
      "outputs": [],
      "source": [
        "#Cell 5: Apply quantization wrappers (per-layer config)\n",
        "TARGET_NAMES = (\"attn.c_attn\", \"attn.c_proj\", \"mlp.c_fc\", \"mlp.c_proj\")\n",
        "\n",
        "def iter_linear_modules_with_names(model: nn.Module):\n",
        "    for fqname, m in model.named_modules():\n",
        "        cls = m.__class__.__name__\n",
        "        if isinstance(m, nn.Linear) or cls == \"Conv1D\":\n",
        "            yield fqname, m\n",
        "\n",
        "def apply_quantization(model: nn.Module, base_cfg: dict, override_cfg: Optional[dict] = None):\n",
        "    \"\"\"\n",
        "    Wrap all Linear/Conv1D layers with QuantLinear/QuantConv1D.\n",
        "    base_cfg keys: w_bits,a_bits,w_symmetric,a_symmetric\n",
        "    override_cfg: dict of fqname -> dict of overrides\n",
        "    Returns list of (fqname, wrapped_module)\n",
        "    \"\"\"\n",
        "    if override_cfg is None: override_cfg = {}\n",
        "\n",
        "    wrapped = []\n",
        "    for fq, m in list(model.named_modules()):\n",
        "        is_linear = isinstance(m, nn.Linear)\n",
        "        is_conv1d = (m.__class__.__name__ == \"Conv1D\")\n",
        "        if not (is_linear or is_conv1d):\n",
        "            continue\n",
        "\n",
        "        parent_name = fq.rsplit(\".\", 1)[0] if \".\" in fq else \"\"\n",
        "        parent = model.get_submodule(parent_name) if parent_name else model\n",
        "        attr = fq.split(\".\")[-1]\n",
        "\n",
        "        cfg = dict(base_cfg)\n",
        "        cfg.update(override_cfg.get(fq, {}))\n",
        "\n",
        "        if is_linear:\n",
        "            new_m = QuantLinear(m, fqname=fq, **cfg)\n",
        "        else:\n",
        "            new_m = QuantConv1D(m, fqname=fq, **cfg)\n",
        "\n",
        "        setattr(parent, attr, new_m)\n",
        "        wrapped.append((fq, new_m))\n",
        "    return wrapped\n"
      ],
      "id": "ETdpPh49UTf7"
    },
    {
      "cell_type": "code",
      "execution_count": 48,
      "metadata": {
        "id": "IoQiRo3EUTf7"
      },
      "outputs": [],
      "source": [
        "#Cell 6: Load GPT-2, wrap with quant + add LoRA adapters\n",
        "model = GPT2LMHeadModel.from_pretrained(\"gpt2\")\n",
        "tokenizer = GPT2TokenizerFast.from_pretrained(\"gpt2\")\n",
        "if tokenizer.pad_token is None:\n",
        "    tokenizer.pad_token = tokenizer.eos_token\n",
        "\n",
        "base_cfg = dict(w_bits=8, a_bits=8, w_symmetric=True, a_symmetric=True)\n",
        "wrapped = apply_quantization(model, base_cfg)\n",
        "\n",
        "# Router\n",
        "router = LoraRouter()\n",
        "model._lora_router = router\n",
        "\n",
        "# Add LoRA adapters (one per precision profile we plan to use)\n",
        "# Add LoRA adapters (slightly higher capacity)\n",
        "for fq, m in wrapped:\n",
        "    if any(t in fq for t in TARGET_NAMES):\n",
        "        m.add_adapter(\"bw4\", r=16, alpha=32, dropout=0.0)\n",
        "        m.add_adapter(\"bw6\", r=16, alpha=32, dropout=0.0)\n",
        "        m.add_adapter(\"bw8\", r=16, alpha=32, dropout=0.0)\n",
        "\n",
        "\n",
        "model = model.to(device)\n"
      ],
      "id": "IoQiRo3EUTf7"
    },
    {
      "cell_type": "code",
      "execution_count": 49,
      "metadata": {
        "colab": {
          "base_uri": "https://localhost:8080/"
        },
        "id": "VXmHIESHUTf7",
        "outputId": "5e84a5df-6d9d-449d-ec66-dfbb8197ea96"
      },
      "outputs": [
        {
          "output_type": "stream",
          "name": "stdout",
          "text": [
            "Estimated size (MB): 118.13\n"
          ]
        }
      ],
      "source": [
        "# Cell 7: Size estimator (bits & MB)\n",
        "def estimate_quantized_size_bytes(model: nn.Module, default_bits=8):\n",
        "    total_bits = 0\n",
        "    for fq, m in model.named_modules():\n",
        "        if isinstance(m, QuantLinear):\n",
        "            num_w = m.base.weight.numel()\n",
        "            total_bits += num_w * (m.w_bits or default_bits)\n",
        "            if m.base.bias is not None:\n",
        "                total_bits += m.base.bias.numel() * 32\n",
        "    return total_bits // 8\n",
        "\n",
        "def human_mb(x): return x / (1024**2)\n",
        "\n",
        "print(\"Estimated size (MB):\", round(human_mb(estimate_quantized_size_bytes(model)), 2))\n"
      ],
      "id": "VXmHIESHUTf7"
    },
    {
      "cell_type": "code",
      "execution_count": 50,
      "metadata": {
        "colab": {
          "base_uri": "https://localhost:8080/"
        },
        "id": "0lqwFKtPUTf7",
        "outputId": "16d45c04-4d40-4a75-a64e-dee57cfbe6d0"
      },
      "outputs": [
        {
          "output_type": "stream",
          "name": "stdout",
          "text": [
            "Profiles: ['bw4_profile', 'bw6_profile', 'bw8_profile']\n"
          ]
        }
      ],
      "source": [
        "# Cell 8: Precision profiles & setter; LoRA profile mapping\n",
        "def is_attn(fq): return \".attn.\" in fq\n",
        "def is_mlp(fq):  return \".mlp.\" in fq or \".c_fc\" in fq\n",
        "\n",
        "def build_precision_profiles(wrapped_layers):\n",
        "    return {\n",
        "        \"bw4_profile\": {\"layers\": {fq: {\"w_bits\": (4 if is_attn(fq) else 6 if is_mlp(fq) else 8)} for fq, _ in wrapped_layers}},\n",
        "        \"bw6_profile\": {\"layers\": {fq: {\"w_bits\": (6 if (is_attn(fq) or is_mlp(fq)) else 8)} for fq, _ in wrapped_layers}},\n",
        "        \"bw8_profile\": {\"layers\": {fq: {\"w_bits\": 8} for fq, _ in wrapped_layers}},\n",
        "    }\n",
        "\n",
        "PRECISION_PROFILES = build_precision_profiles(wrapped)\n",
        "\n",
        "BITS_TO_ADAPTER = {4: \"bw4\", 6: \"bw6\", 8: \"bw8\"}\n",
        "\n",
        "def set_precision_profile(model: nn.Module, profile_cfg: dict):\n",
        "    \"\"\"\n",
        "    Apply 'layers' dict: fqname -> {w_bits, a_bits?, ...} to QuantLinear/QuantConv1D modules.\n",
        "    \"\"\"\n",
        "    layer_cfg = profile_cfg.get(\"layers\", {})\n",
        "    for fq, m in model.named_modules():\n",
        "        if isinstance(m, QuantLinear):\n",
        "            cfg = layer_cfg.get(fq, {})\n",
        "            if cfg:\n",
        "                m.set_precision(**cfg)\n",
        "\n",
        "def build_lora_profiles(PRECISION_PROFILES, wrapped_layers):\n",
        "    wrapped_names = {fq for fq, _ in wrapped_layers}\n",
        "    out = {}\n",
        "    for prof_name, prof_cfg in PRECISION_PROFILES.items():\n",
        "        mapping = {}\n",
        "        for fq in wrapped_names:\n",
        "            bits = int(prof_cfg[\"layers\"].get(fq, {}).get(\"w_bits\", 8))\n",
        "            mapping[fq] = BITS_TO_ADAPTER.get(bits, \"bw8\")\n",
        "        out[prof_name] = mapping\n",
        "    return out\n",
        "\n",
        "LORA_PROFILES = build_lora_profiles(PRECISION_PROFILES, wrapped)\n",
        "ALL_PROFILES = list(PRECISION_PROFILES.keys())\n",
        "print(\"Profiles:\", ALL_PROFILES)\n"
      ],
      "id": "0lqwFKtPUTf7"
    },
    {
      "cell_type": "code",
      "execution_count": 51,
      "metadata": {
        "id": "C3doRn_pUTf7"
      },
      "outputs": [],
      "source": [
        "# Cell 9\n",
        "from datasets import load_dataset\n",
        "\n",
        "CTX_WINDOW_CHARS = 320  # tune 240–480\n",
        "\n",
        "def _first_answer_with_start(ans):\n",
        "    if isinstance(ans, dict) and \"text\" in ans and len(ans[\"text\"]) > 0:\n",
        "        txt = ans[\"text\"][0]\n",
        "        start = ans.get(\"answer_start\", [0])[0]\n",
        "        return txt, int(start)\n",
        "    # Fallback if structure is odd\n",
        "    return _first_answer(ans), 0\n",
        "\n",
        "def crop_context_around_answer(context, start_idx, window=CTX_WINDOW_CHARS):\n",
        "    if start_idx is None or start_idx < 0 or start_idx >= len(context):\n",
        "        return context  # fallback\n",
        "    half = window // 2\n",
        "    left = max(0, start_idx - half)\n",
        "    right = min(len(context), start_idx + half)\n",
        "    snippet = context[left:right]\n",
        "    # Add simple ellipses markers so the model learns it’s a snippet\n",
        "    prefix = \"... \" if left > 0 else \"\"\n",
        "    suffix = \" ...\" if right < len(context) else \"\"\n",
        "    return prefix + snippet + suffix\n",
        "\n",
        "def build_example(q, c, a_txt, a_start):\n",
        "    c_snip = crop_context_around_answer(c, a_start, window=CTX_WINDOW_CHARS)\n",
        "    prompt = f\"Q: {q}\\nC: {c_snip}\\nA:\"\n",
        "    target = \" \" + a_txt.strip() + tokenizer.eos_token\n",
        "    return prompt, target\n",
        "\n",
        "def tokenize_batch_masked(batch, max_length=256):\n",
        "    prompts, targets = [], []\n",
        "    for q, c, a in zip(batch[\"question\"], batch[\"context\"], batch[\"answers\"]):\n",
        "        a_txt, a_start = _first_answer_with_start(a)\n",
        "        p, t = build_example(q, c, a_txt, a_start)\n",
        "        prompts.append(p); targets.append(t)\n",
        "\n",
        "    enc_p = tokenizer(prompts, padding=False, truncation=True, max_length=max_length)\n",
        "    enc_t = tokenizer(targets, padding=False, truncation=True, max_length=max_length)\n",
        "\n",
        "    input_ids, attention_mask, labels = [], [], []\n",
        "    for p_ids, p_mask, t_ids in zip(enc_p[\"input_ids\"], enc_p[\"attention_mask\"], enc_t[\"input_ids\"]):\n",
        "        ids  = p_ids + t_ids\n",
        "        attn = p_mask + [1]*len(t_ids)\n",
        "        lab  = [-100]*len(p_ids) + t_ids\n",
        "\n",
        "        if len(ids) > max_length:\n",
        "            extra = len(ids) - max_length\n",
        "            keep_prompt = max(0, len(p_ids) - extra)\n",
        "            ids  = p_ids[:keep_prompt] + t_ids\n",
        "            attn = [1]*len(ids)\n",
        "            lab  = [-100]*keep_prompt + t_ids\n",
        "            ids, attn, lab = ids[:max_length], attn[:max_length], lab[:max_length]\n",
        "\n",
        "        input_ids.append(ids); attention_mask.append(attn); labels.append(lab)\n",
        "\n",
        "    batch_enc = tokenizer.pad({\"input_ids\": input_ids, \"attention_mask\": attention_mask},\n",
        "                              padding=True, return_tensors=\"pt\")\n",
        "    max_len = batch_enc[\"input_ids\"].shape[1]\n",
        "    padded_labels = [ (lab + [-100]*(max_len-len(lab)))[:max_len] for lab in labels ]\n",
        "    batch_enc[\"labels\"] = torch.tensor(padded_labels, dtype=torch.long)\n",
        "    return batch_enc\n",
        "\n",
        "raw = load_dataset(\"squad\")\n",
        "\n",
        "def _keep(ex): return {\"question\": ex[\"question\"], \"context\": ex[\"context\"], \"answers\": ex[\"answers\"]}\n",
        "train_raw = raw[\"train\"].select(range(2000)).map(_keep, remove_columns=raw[\"train\"].column_names)\n",
        "val_raw   = raw[\"validation\"].select(range(500)).map(_keep, remove_columns=raw[\"validation\"].column_names)\n",
        "\n",
        "def collate_fn(examples):\n",
        "    return tokenize_batch_masked({\n",
        "        \"question\": [e[\"question\"] for e in examples],\n",
        "        \"context\":  [e[\"context\"]  for e in examples],\n",
        "        \"answers\":  [e[\"answers\"]  for e in examples],\n",
        "    }, max_length=256)\n",
        "\n",
        "from torch.utils.data import DataLoader\n",
        "train_loader = DataLoader(train_raw, batch_size=8, shuffle=True,  collate_fn=collate_fn)\n",
        "val_loader   = DataLoader(val_raw,   batch_size=8, shuffle=False, collate_fn=collate_fn)\n"
      ],
      "id": "C3doRn_pUTf7"
    },
    {
      "cell_type": "code",
      "source": [
        "batch = next(iter(train_loader))\n",
        "labels = batch[\"labels\"]\n",
        "frac = (labels != -100).float().mean().item()\n",
        "print(\"Supervised token fraction (should be >0 and <<1):\", round(frac, 4))\n",
        "\n",
        "# Inspect where labels start\n",
        "i = 0\n",
        "labs = labels[i].tolist()\n",
        "ids  = batch[\"input_ids\"][i].tolist()\n",
        "first_idx = next(idx for idx, t in enumerate(labs) if t != -100)\n",
        "print(\"prompt_len:\", first_idx)\n",
        "print(\"prompt ->\")\n",
        "print(tokenizer.decode(ids[:first_idx]))\n",
        "print(\"target ->\")\n",
        "print(tokenizer.decode([t for t in labs if t != -100]))\n"
      ],
      "metadata": {
        "colab": {
          "base_uri": "https://localhost:8080/"
        },
        "id": "V72CaALeZeDh",
        "outputId": "6dc5fa18-f575-4c2a-c3f5-c457a156593e"
      },
      "id": "V72CaALeZeDh",
      "execution_count": 52,
      "outputs": [
        {
          "output_type": "stream",
          "name": "stderr",
          "text": [
            "You're using a GPT2TokenizerFast tokenizer. Please note that with a fast tokenizer, using the `__call__` method is faster than using a method to encode the text followed by a call to the `pad` method to get a padded encoding.\n"
          ]
        },
        {
          "output_type": "stream",
          "name": "stdout",
          "text": [
            "Supervised token fraction (should be >0 and <<1): 0.0442\n",
            "prompt_len: 98\n",
            "prompt ->\n",
            "Q: What is another name used for bacterial cell wall?\n",
            "C: ... chanism of action, chemical structure, or spectrum of activity. Most target bacterial functions or growth processes. Those that target the bacterial cell wall (penicillins and cephalosporins) or the cell membrane (polymyxins), or interfere with essential bacterial enzymes (rifamycins, lipiarmycins, quinolones, and sulf ...\n",
            "A:\n",
            "target ->\n",
            " penicillins and cephalosporins<|endoftext|>\n"
          ]
        }
      ]
    },
    {
      "cell_type": "code",
      "execution_count": 53,
      "metadata": {
        "id": "3Y7zMX5DUTf7"
      },
      "outputs": [],
      "source": [
        "#Cell 10: Train utilities\n",
        "def lora_parameters(model):\n",
        "    for n, m in model.named_modules():\n",
        "        if isinstance(m, QuantLinear):\n",
        "            for an, am in m.adapters.items():\n",
        "                for p in am.parameters():\n",
        "                    if p.requires_grad:\n",
        "                        yield p\n",
        "\n",
        "def build_optimizer(model, lr=2e-4, weight_decay=0.0):\n",
        "    params = list(lora_parameters(model))\n",
        "    opt = torch.optim.AdamW(params, lr=lr, weight_decay=weight_decay)\n",
        "    return opt\n",
        "\n",
        "def one_step_loss(model, batch, active_adapter_map: Dict[str, str]):\n",
        "    ids = batch[\"input_ids\"].to(device)\n",
        "    attn = batch.get(\"attention_mask\", torch.ones_like(ids)).to(device)\n",
        "    with model._lora_router.use(active_adapter_map):\n",
        "        outputs = model(input_ids=ids, attention_mask=attn, labels=ids)\n",
        "        return outputs.loss\n"
      ],
      "id": "3Y7zMX5DUTf7"
    },
    {
      "cell_type": "code",
      "execution_count": 54,
      "metadata": {
        "id": "wxCAONW9UTf8"
      },
      "outputs": [],
      "source": [
        "# Cell 11: 1k-step training with periodic EM/F1\n",
        "def train_switchable_precision(\n",
        "    model, train_loader, profiles,\n",
        "    total_steps=1000, lr=4e-4, grad_accum=1, log_every=50,\n",
        "    eval_every=200, eval_n=100, eval_profile=\"bw6_profile\"\n",
        "):\n",
        "    model.train()\n",
        "    opt = build_optimizer(model, lr=lr)\n",
        "    it = iter(train_loader)\n",
        "\n",
        "    hist = []   # (step, profile, train_loss)\n",
        "    evals = []  # (step, EM, F1)\n",
        "\n",
        "    step = 0\n",
        "    run_loss = 0.0\n",
        "    accum = 0\n",
        "\n",
        "    while step < total_steps:\n",
        "        try:\n",
        "            batch = next(it)\n",
        "        except StopIteration:\n",
        "            it = iter(train_loader)\n",
        "            batch = next(it)\n",
        "\n",
        "        prof = random.choice(profiles)\n",
        "        set_precision_profile(model, PRECISION_PROFILES[prof])\n",
        "        loss = one_step_loss(model, batch, LORA_PROFILES[prof]) / grad_accum\n",
        "        loss.backward()\n",
        "        run_loss += float(loss.detach().cpu())\n",
        "        accum += 1\n",
        "\n",
        "        if accum == grad_accum:\n",
        "            torch.nn.utils.clip_grad_norm_(list(lora_parameters(model)), 1.0)\n",
        "            opt.step()\n",
        "            opt.zero_grad(set_to_none=True)\n",
        "            accum = 0\n",
        "            step += 1\n",
        "\n",
        "            if step % log_every == 0:\n",
        "                print(f\"[Step {step:4d}/{total_steps}] prof={prof} train_loss={run_loss:.4f}\")\n",
        "            hist.append((step, prof, run_loss))\n",
        "            run_loss = 0.0\n",
        "\n",
        "            if eval_every and step % eval_every == 0:\n",
        "                model.eval()\n",
        "                em, f1 = eval_em_f1(model, val_raw, n_examples=eval_n, profile=eval_profile)\n",
        "                model.train()\n",
        "                evals.append((step, em, f1))\n",
        "                print(f\"  -> Eval@{step} ({eval_profile}) EM={em:.3f} F1={f1:.3f}\")\n",
        "\n",
        "    return pd.DataFrame(hist, columns=[\"step\",\"profile\",\"train_loss\"]), pd.DataFrame(evals, columns=[\"step\",\"EM\",\"F1\"])\n"
      ],
      "id": "wxCAONW9UTf8"
    },
    {
      "cell_type": "code",
      "source": [
        "# Cell 11b: Run the 1k-step training and evaluate\n",
        "def evaluate_profiles(model, dataset, profiles=None, n_examples=200):\n",
        "    profiles = profiles or ALL_PROFILES\n",
        "    rows = []\n",
        "    for prof in profiles:\n",
        "        em, f1 = eval_em_f1(model, dataset, n_examples=n_examples, profile=prof)\n",
        "        rows.append(dict(profile=prof, EM=em, F1=f1))\n",
        "    df = pd.DataFrame(rows).sort_values(\"F1\", ascending=False).reset_index(drop=True)\n",
        "    return df\n",
        "\n",
        "hist, evals = train_switchable_precision(\n",
        "    model, train_loader,\n",
        "    profiles=[\"bw4_profile\",\"bw6_profile\",\"bw8_profile\"],\n",
        "    total_steps=1000, lr=4e-4, grad_accum=1,\n",
        "    log_every=50, eval_every=200, eval_n=100, eval_profile=\"bw6_profile\"\n",
        ")\n",
        "\n",
        "# Compare profiles after training\n",
        "df4 = evaluate_profiles(model, val_raw, profiles=ALL_PROFILES, n_examples=100)\n",
        "print(df4)\n"
      ],
      "metadata": {
        "colab": {
          "base_uri": "https://localhost:8080/",
          "height": 356
        },
        "id": "j2RGZPyGaYYi",
        "outputId": "9a41f8f7-4424-4904-a62e-49c64509fb55"
      },
      "id": "j2RGZPyGaYYi",
      "execution_count": 56,
      "outputs": [
        {
          "output_type": "error",
          "ename": "KeyboardInterrupt",
          "evalue": "",
          "traceback": [
            "\u001b[0;31m---------------------------------------------------------------------------\u001b[0m",
            "\u001b[0;31mKeyboardInterrupt\u001b[0m                         Traceback (most recent call last)",
            "\u001b[0;32m/tmp/ipython-input-805176983.py\u001b[0m in \u001b[0;36m<cell line: 0>\u001b[0;34m()\u001b[0m\n\u001b[1;32m      9\u001b[0m     \u001b[0;32mreturn\u001b[0m \u001b[0mdf\u001b[0m\u001b[0;34m\u001b[0m\u001b[0;34m\u001b[0m\u001b[0m\n\u001b[1;32m     10\u001b[0m \u001b[0;34m\u001b[0m\u001b[0m\n\u001b[0;32m---> 11\u001b[0;31m hist, evals = train_switchable_precision(\n\u001b[0m\u001b[1;32m     12\u001b[0m     \u001b[0mmodel\u001b[0m\u001b[0;34m,\u001b[0m \u001b[0mtrain_loader\u001b[0m\u001b[0;34m,\u001b[0m\u001b[0;34m\u001b[0m\u001b[0;34m\u001b[0m\u001b[0m\n\u001b[1;32m     13\u001b[0m     \u001b[0mprofiles\u001b[0m\u001b[0;34m=\u001b[0m\u001b[0;34m[\u001b[0m\u001b[0;34m\"bw4_profile\"\u001b[0m\u001b[0;34m,\u001b[0m\u001b[0;34m\"bw6_profile\"\u001b[0m\u001b[0;34m,\u001b[0m\u001b[0;34m\"bw8_profile\"\u001b[0m\u001b[0;34m]\u001b[0m\u001b[0;34m,\u001b[0m\u001b[0;34m\u001b[0m\u001b[0;34m\u001b[0m\u001b[0m\n",
            "\u001b[0;32m/tmp/ipython-input-1978004086.py\u001b[0m in \u001b[0;36mtrain_switchable_precision\u001b[0;34m(model, train_loader, profiles, total_steps, lr, grad_accum, log_every, eval_every, eval_n, eval_profile)\u001b[0m\n\u001b[1;32m     25\u001b[0m         \u001b[0mprof\u001b[0m \u001b[0;34m=\u001b[0m \u001b[0mrandom\u001b[0m\u001b[0;34m.\u001b[0m\u001b[0mchoice\u001b[0m\u001b[0;34m(\u001b[0m\u001b[0mprofiles\u001b[0m\u001b[0;34m)\u001b[0m\u001b[0;34m\u001b[0m\u001b[0;34m\u001b[0m\u001b[0m\n\u001b[1;32m     26\u001b[0m         \u001b[0mset_precision_profile\u001b[0m\u001b[0;34m(\u001b[0m\u001b[0mmodel\u001b[0m\u001b[0;34m,\u001b[0m \u001b[0mPRECISION_PROFILES\u001b[0m\u001b[0;34m[\u001b[0m\u001b[0mprof\u001b[0m\u001b[0;34m]\u001b[0m\u001b[0;34m)\u001b[0m\u001b[0;34m\u001b[0m\u001b[0;34m\u001b[0m\u001b[0m\n\u001b[0;32m---> 27\u001b[0;31m         \u001b[0mloss\u001b[0m \u001b[0;34m=\u001b[0m \u001b[0mone_step_loss\u001b[0m\u001b[0;34m(\u001b[0m\u001b[0mmodel\u001b[0m\u001b[0;34m,\u001b[0m \u001b[0mbatch\u001b[0m\u001b[0;34m,\u001b[0m \u001b[0mLORA_PROFILES\u001b[0m\u001b[0;34m[\u001b[0m\u001b[0mprof\u001b[0m\u001b[0;34m]\u001b[0m\u001b[0;34m)\u001b[0m \u001b[0;34m/\u001b[0m \u001b[0mgrad_accum\u001b[0m\u001b[0;34m\u001b[0m\u001b[0;34m\u001b[0m\u001b[0m\n\u001b[0m\u001b[1;32m     28\u001b[0m         \u001b[0mloss\u001b[0m\u001b[0;34m.\u001b[0m\u001b[0mbackward\u001b[0m\u001b[0;34m(\u001b[0m\u001b[0;34m)\u001b[0m\u001b[0;34m\u001b[0m\u001b[0;34m\u001b[0m\u001b[0m\n\u001b[1;32m     29\u001b[0m         \u001b[0mrun_loss\u001b[0m \u001b[0;34m+=\u001b[0m \u001b[0mfloat\u001b[0m\u001b[0;34m(\u001b[0m\u001b[0mloss\u001b[0m\u001b[0;34m.\u001b[0m\u001b[0mdetach\u001b[0m\u001b[0;34m(\u001b[0m\u001b[0;34m)\u001b[0m\u001b[0;34m.\u001b[0m\u001b[0mcpu\u001b[0m\u001b[0;34m(\u001b[0m\u001b[0;34m)\u001b[0m\u001b[0;34m)\u001b[0m\u001b[0;34m\u001b[0m\u001b[0;34m\u001b[0m\u001b[0m\n",
            "\u001b[0;32m/tmp/ipython-input-2584980735.py\u001b[0m in \u001b[0;36mone_step_loss\u001b[0;34m(model, batch, active_adapter_map)\u001b[0m\n\u001b[1;32m     17\u001b[0m     \u001b[0mattn\u001b[0m \u001b[0;34m=\u001b[0m \u001b[0mbatch\u001b[0m\u001b[0;34m.\u001b[0m\u001b[0mget\u001b[0m\u001b[0;34m(\u001b[0m\u001b[0;34m\"attention_mask\"\u001b[0m\u001b[0;34m,\u001b[0m \u001b[0mtorch\u001b[0m\u001b[0;34m.\u001b[0m\u001b[0mones_like\u001b[0m\u001b[0;34m(\u001b[0m\u001b[0mids\u001b[0m\u001b[0;34m)\u001b[0m\u001b[0;34m)\u001b[0m\u001b[0;34m.\u001b[0m\u001b[0mto\u001b[0m\u001b[0;34m(\u001b[0m\u001b[0mdevice\u001b[0m\u001b[0;34m)\u001b[0m\u001b[0;34m\u001b[0m\u001b[0;34m\u001b[0m\u001b[0m\n\u001b[1;32m     18\u001b[0m     \u001b[0;32mwith\u001b[0m \u001b[0mmodel\u001b[0m\u001b[0;34m.\u001b[0m\u001b[0m_lora_router\u001b[0m\u001b[0;34m.\u001b[0m\u001b[0muse\u001b[0m\u001b[0;34m(\u001b[0m\u001b[0mactive_adapter_map\u001b[0m\u001b[0;34m)\u001b[0m\u001b[0;34m:\u001b[0m\u001b[0;34m\u001b[0m\u001b[0;34m\u001b[0m\u001b[0m\n\u001b[0;32m---> 19\u001b[0;31m         \u001b[0moutputs\u001b[0m \u001b[0;34m=\u001b[0m \u001b[0mmodel\u001b[0m\u001b[0;34m(\u001b[0m\u001b[0minput_ids\u001b[0m\u001b[0;34m=\u001b[0m\u001b[0mids\u001b[0m\u001b[0;34m,\u001b[0m \u001b[0mattention_mask\u001b[0m\u001b[0;34m=\u001b[0m\u001b[0mattn\u001b[0m\u001b[0;34m,\u001b[0m \u001b[0mlabels\u001b[0m\u001b[0;34m=\u001b[0m\u001b[0mids\u001b[0m\u001b[0;34m)\u001b[0m\u001b[0;34m\u001b[0m\u001b[0;34m\u001b[0m\u001b[0m\n\u001b[0m\u001b[1;32m     20\u001b[0m         \u001b[0;32mreturn\u001b[0m \u001b[0moutputs\u001b[0m\u001b[0;34m.\u001b[0m\u001b[0mloss\u001b[0m\u001b[0;34m\u001b[0m\u001b[0;34m\u001b[0m\u001b[0m\n",
            "\u001b[0;32m/usr/local/lib/python3.12/dist-packages/torch/nn/modules/module.py\u001b[0m in \u001b[0;36m_wrapped_call_impl\u001b[0;34m(self, *args, **kwargs)\u001b[0m\n\u001b[1;32m   1771\u001b[0m             \u001b[0;32mreturn\u001b[0m \u001b[0mself\u001b[0m\u001b[0;34m.\u001b[0m\u001b[0m_compiled_call_impl\u001b[0m\u001b[0;34m(\u001b[0m\u001b[0;34m*\u001b[0m\u001b[0margs\u001b[0m\u001b[0;34m,\u001b[0m \u001b[0;34m**\u001b[0m\u001b[0mkwargs\u001b[0m\u001b[0;34m)\u001b[0m  \u001b[0;31m# type: ignore[misc]\u001b[0m\u001b[0;34m\u001b[0m\u001b[0;34m\u001b[0m\u001b[0m\n\u001b[1;32m   1772\u001b[0m         \u001b[0;32melse\u001b[0m\u001b[0;34m:\u001b[0m\u001b[0;34m\u001b[0m\u001b[0;34m\u001b[0m\u001b[0m\n\u001b[0;32m-> 1773\u001b[0;31m             \u001b[0;32mreturn\u001b[0m \u001b[0mself\u001b[0m\u001b[0;34m.\u001b[0m\u001b[0m_call_impl\u001b[0m\u001b[0;34m(\u001b[0m\u001b[0;34m*\u001b[0m\u001b[0margs\u001b[0m\u001b[0;34m,\u001b[0m \u001b[0;34m**\u001b[0m\u001b[0mkwargs\u001b[0m\u001b[0;34m)\u001b[0m\u001b[0;34m\u001b[0m\u001b[0;34m\u001b[0m\u001b[0m\n\u001b[0m\u001b[1;32m   1774\u001b[0m \u001b[0;34m\u001b[0m\u001b[0m\n\u001b[1;32m   1775\u001b[0m     \u001b[0;31m# torchrec tests the code consistency with the following code\u001b[0m\u001b[0;34m\u001b[0m\u001b[0;34m\u001b[0m\u001b[0m\n",
            "\u001b[0;32m/usr/local/lib/python3.12/dist-packages/torch/nn/modules/module.py\u001b[0m in \u001b[0;36m_call_impl\u001b[0;34m(self, *args, **kwargs)\u001b[0m\n\u001b[1;32m   1782\u001b[0m                 \u001b[0;32mor\u001b[0m \u001b[0m_global_backward_pre_hooks\u001b[0m \u001b[0;32mor\u001b[0m \u001b[0m_global_backward_hooks\u001b[0m\u001b[0;34m\u001b[0m\u001b[0;34m\u001b[0m\u001b[0m\n\u001b[1;32m   1783\u001b[0m                 or _global_forward_hooks or _global_forward_pre_hooks):\n\u001b[0;32m-> 1784\u001b[0;31m             \u001b[0;32mreturn\u001b[0m \u001b[0mforward_call\u001b[0m\u001b[0;34m(\u001b[0m\u001b[0;34m*\u001b[0m\u001b[0margs\u001b[0m\u001b[0;34m,\u001b[0m \u001b[0;34m**\u001b[0m\u001b[0mkwargs\u001b[0m\u001b[0;34m)\u001b[0m\u001b[0;34m\u001b[0m\u001b[0;34m\u001b[0m\u001b[0m\n\u001b[0m\u001b[1;32m   1785\u001b[0m \u001b[0;34m\u001b[0m\u001b[0m\n\u001b[1;32m   1786\u001b[0m         \u001b[0mresult\u001b[0m \u001b[0;34m=\u001b[0m \u001b[0;32mNone\u001b[0m\u001b[0;34m\u001b[0m\u001b[0;34m\u001b[0m\u001b[0m\n",
            "\u001b[0;32m/usr/local/lib/python3.12/dist-packages/transformers/models/gpt2/modeling_gpt2.py\u001b[0m in \u001b[0;36mforward\u001b[0;34m(self, input_ids, past_key_values, cache_position, attention_mask, token_type_ids, position_ids, head_mask, inputs_embeds, encoder_hidden_states, encoder_attention_mask, labels, use_cache, output_attentions, output_hidden_states, return_dict, logits_to_keep, **kwargs)\u001b[0m\n\u001b[1;32m   1068\u001b[0m         \u001b[0mreturn_dict\u001b[0m \u001b[0;34m=\u001b[0m \u001b[0mreturn_dict\u001b[0m \u001b[0;32mif\u001b[0m \u001b[0mreturn_dict\u001b[0m \u001b[0;32mis\u001b[0m \u001b[0;32mnot\u001b[0m \u001b[0;32mNone\u001b[0m \u001b[0;32melse\u001b[0m \u001b[0mself\u001b[0m\u001b[0;34m.\u001b[0m\u001b[0mconfig\u001b[0m\u001b[0;34m.\u001b[0m\u001b[0muse_return_dict\u001b[0m\u001b[0;34m\u001b[0m\u001b[0;34m\u001b[0m\u001b[0m\n\u001b[1;32m   1069\u001b[0m \u001b[0;34m\u001b[0m\u001b[0m\n\u001b[0;32m-> 1070\u001b[0;31m         transformer_outputs = self.transformer(\n\u001b[0m\u001b[1;32m   1071\u001b[0m             \u001b[0minput_ids\u001b[0m\u001b[0;34m,\u001b[0m\u001b[0;34m\u001b[0m\u001b[0;34m\u001b[0m\u001b[0m\n\u001b[1;32m   1072\u001b[0m             \u001b[0mpast_key_values\u001b[0m\u001b[0;34m=\u001b[0m\u001b[0mpast_key_values\u001b[0m\u001b[0;34m,\u001b[0m\u001b[0;34m\u001b[0m\u001b[0;34m\u001b[0m\u001b[0m\n",
            "\u001b[0;32m/usr/local/lib/python3.12/dist-packages/torch/nn/modules/module.py\u001b[0m in \u001b[0;36m_wrapped_call_impl\u001b[0;34m(self, *args, **kwargs)\u001b[0m\n\u001b[1;32m   1771\u001b[0m             \u001b[0;32mreturn\u001b[0m \u001b[0mself\u001b[0m\u001b[0;34m.\u001b[0m\u001b[0m_compiled_call_impl\u001b[0m\u001b[0;34m(\u001b[0m\u001b[0;34m*\u001b[0m\u001b[0margs\u001b[0m\u001b[0;34m,\u001b[0m \u001b[0;34m**\u001b[0m\u001b[0mkwargs\u001b[0m\u001b[0;34m)\u001b[0m  \u001b[0;31m# type: ignore[misc]\u001b[0m\u001b[0;34m\u001b[0m\u001b[0;34m\u001b[0m\u001b[0m\n\u001b[1;32m   1772\u001b[0m         \u001b[0;32melse\u001b[0m\u001b[0;34m:\u001b[0m\u001b[0;34m\u001b[0m\u001b[0;34m\u001b[0m\u001b[0m\n\u001b[0;32m-> 1773\u001b[0;31m             \u001b[0;32mreturn\u001b[0m \u001b[0mself\u001b[0m\u001b[0;34m.\u001b[0m\u001b[0m_call_impl\u001b[0m\u001b[0;34m(\u001b[0m\u001b[0;34m*\u001b[0m\u001b[0margs\u001b[0m\u001b[0;34m,\u001b[0m \u001b[0;34m**\u001b[0m\u001b[0mkwargs\u001b[0m\u001b[0;34m)\u001b[0m\u001b[0;34m\u001b[0m\u001b[0;34m\u001b[0m\u001b[0m\n\u001b[0m\u001b[1;32m   1774\u001b[0m \u001b[0;34m\u001b[0m\u001b[0m\n\u001b[1;32m   1775\u001b[0m     \u001b[0;31m# torchrec tests the code consistency with the following code\u001b[0m\u001b[0;34m\u001b[0m\u001b[0;34m\u001b[0m\u001b[0m\n",
            "\u001b[0;32m/usr/local/lib/python3.12/dist-packages/torch/nn/modules/module.py\u001b[0m in \u001b[0;36m_call_impl\u001b[0;34m(self, *args, **kwargs)\u001b[0m\n\u001b[1;32m   1782\u001b[0m                 \u001b[0;32mor\u001b[0m \u001b[0m_global_backward_pre_hooks\u001b[0m \u001b[0;32mor\u001b[0m \u001b[0m_global_backward_hooks\u001b[0m\u001b[0;34m\u001b[0m\u001b[0;34m\u001b[0m\u001b[0m\n\u001b[1;32m   1783\u001b[0m                 or _global_forward_hooks or _global_forward_pre_hooks):\n\u001b[0;32m-> 1784\u001b[0;31m             \u001b[0;32mreturn\u001b[0m \u001b[0mforward_call\u001b[0m\u001b[0;34m(\u001b[0m\u001b[0;34m*\u001b[0m\u001b[0margs\u001b[0m\u001b[0;34m,\u001b[0m \u001b[0;34m**\u001b[0m\u001b[0mkwargs\u001b[0m\u001b[0;34m)\u001b[0m\u001b[0;34m\u001b[0m\u001b[0;34m\u001b[0m\u001b[0m\n\u001b[0m\u001b[1;32m   1785\u001b[0m \u001b[0;34m\u001b[0m\u001b[0m\n\u001b[1;32m   1786\u001b[0m         \u001b[0mresult\u001b[0m \u001b[0;34m=\u001b[0m \u001b[0;32mNone\u001b[0m\u001b[0;34m\u001b[0m\u001b[0;34m\u001b[0m\u001b[0m\n",
            "\u001b[0;32m/usr/local/lib/python3.12/dist-packages/transformers/models/gpt2/modeling_gpt2.py\u001b[0m in \u001b[0;36mforward\u001b[0;34m(self, input_ids, past_key_values, cache_position, attention_mask, token_type_ids, position_ids, head_mask, inputs_embeds, encoder_hidden_states, encoder_attention_mask, use_cache, output_attentions, output_hidden_states, return_dict, **kwargs)\u001b[0m\n\u001b[1;32m    925\u001b[0m                 \u001b[0mall_hidden_states\u001b[0m \u001b[0;34m=\u001b[0m \u001b[0mall_hidden_states\u001b[0m \u001b[0;34m+\u001b[0m \u001b[0;34m(\u001b[0m\u001b[0mhidden_states\u001b[0m\u001b[0;34m,\u001b[0m\u001b[0;34m)\u001b[0m\u001b[0;34m\u001b[0m\u001b[0;34m\u001b[0m\u001b[0m\n\u001b[1;32m    926\u001b[0m \u001b[0;34m\u001b[0m\u001b[0m\n\u001b[0;32m--> 927\u001b[0;31m             outputs = block(\n\u001b[0m\u001b[1;32m    928\u001b[0m                 \u001b[0mhidden_states\u001b[0m\u001b[0;34m,\u001b[0m\u001b[0;34m\u001b[0m\u001b[0;34m\u001b[0m\u001b[0m\n\u001b[1;32m    929\u001b[0m                 \u001b[0mpast_key_values\u001b[0m \u001b[0;32mif\u001b[0m \u001b[0;32mnot\u001b[0m \u001b[0;34m(\u001b[0m\u001b[0mself\u001b[0m\u001b[0;34m.\u001b[0m\u001b[0mgradient_checkpointing\u001b[0m \u001b[0;32mand\u001b[0m \u001b[0mself\u001b[0m\u001b[0;34m.\u001b[0m\u001b[0mtraining\u001b[0m\u001b[0;34m)\u001b[0m \u001b[0;32melse\u001b[0m \u001b[0;32mNone\u001b[0m\u001b[0;34m,\u001b[0m\u001b[0;34m\u001b[0m\u001b[0;34m\u001b[0m\u001b[0m\n",
            "\u001b[0;32m/usr/local/lib/python3.12/dist-packages/transformers/modeling_layers.py\u001b[0m in \u001b[0;36m__call__\u001b[0;34m(self, *args, **kwargs)\u001b[0m\n\u001b[1;32m     92\u001b[0m \u001b[0;34m\u001b[0m\u001b[0m\n\u001b[1;32m     93\u001b[0m             \u001b[0;32mreturn\u001b[0m \u001b[0mself\u001b[0m\u001b[0;34m.\u001b[0m\u001b[0m_gradient_checkpointing_func\u001b[0m\u001b[0;34m(\u001b[0m\u001b[0mpartial\u001b[0m\u001b[0;34m(\u001b[0m\u001b[0msuper\u001b[0m\u001b[0;34m(\u001b[0m\u001b[0;34m)\u001b[0m\u001b[0;34m.\u001b[0m\u001b[0m__call__\u001b[0m\u001b[0;34m,\u001b[0m \u001b[0;34m**\u001b[0m\u001b[0mkwargs\u001b[0m\u001b[0;34m)\u001b[0m\u001b[0;34m,\u001b[0m \u001b[0;34m*\u001b[0m\u001b[0margs\u001b[0m\u001b[0;34m)\u001b[0m\u001b[0;34m\u001b[0m\u001b[0;34m\u001b[0m\u001b[0m\n\u001b[0;32m---> 94\u001b[0;31m         \u001b[0;32mreturn\u001b[0m \u001b[0msuper\u001b[0m\u001b[0;34m(\u001b[0m\u001b[0;34m)\u001b[0m\u001b[0;34m.\u001b[0m\u001b[0m__call__\u001b[0m\u001b[0;34m(\u001b[0m\u001b[0;34m*\u001b[0m\u001b[0margs\u001b[0m\u001b[0;34m,\u001b[0m \u001b[0;34m**\u001b[0m\u001b[0mkwargs\u001b[0m\u001b[0;34m)\u001b[0m\u001b[0;34m\u001b[0m\u001b[0;34m\u001b[0m\u001b[0m\n\u001b[0m\u001b[1;32m     95\u001b[0m \u001b[0;34m\u001b[0m\u001b[0m\n\u001b[1;32m     96\u001b[0m \u001b[0;34m\u001b[0m\u001b[0m\n",
            "\u001b[0;32m/usr/local/lib/python3.12/dist-packages/torch/nn/modules/module.py\u001b[0m in \u001b[0;36m_wrapped_call_impl\u001b[0;34m(self, *args, **kwargs)\u001b[0m\n\u001b[1;32m   1771\u001b[0m             \u001b[0;32mreturn\u001b[0m \u001b[0mself\u001b[0m\u001b[0;34m.\u001b[0m\u001b[0m_compiled_call_impl\u001b[0m\u001b[0;34m(\u001b[0m\u001b[0;34m*\u001b[0m\u001b[0margs\u001b[0m\u001b[0;34m,\u001b[0m \u001b[0;34m**\u001b[0m\u001b[0mkwargs\u001b[0m\u001b[0;34m)\u001b[0m  \u001b[0;31m# type: ignore[misc]\u001b[0m\u001b[0;34m\u001b[0m\u001b[0;34m\u001b[0m\u001b[0m\n\u001b[1;32m   1772\u001b[0m         \u001b[0;32melse\u001b[0m\u001b[0;34m:\u001b[0m\u001b[0;34m\u001b[0m\u001b[0;34m\u001b[0m\u001b[0m\n\u001b[0;32m-> 1773\u001b[0;31m             \u001b[0;32mreturn\u001b[0m \u001b[0mself\u001b[0m\u001b[0;34m.\u001b[0m\u001b[0m_call_impl\u001b[0m\u001b[0;34m(\u001b[0m\u001b[0;34m*\u001b[0m\u001b[0margs\u001b[0m\u001b[0;34m,\u001b[0m \u001b[0;34m**\u001b[0m\u001b[0mkwargs\u001b[0m\u001b[0;34m)\u001b[0m\u001b[0;34m\u001b[0m\u001b[0;34m\u001b[0m\u001b[0m\n\u001b[0m\u001b[1;32m   1774\u001b[0m \u001b[0;34m\u001b[0m\u001b[0m\n\u001b[1;32m   1775\u001b[0m     \u001b[0;31m# torchrec tests the code consistency with the following code\u001b[0m\u001b[0;34m\u001b[0m\u001b[0;34m\u001b[0m\u001b[0m\n",
            "\u001b[0;32m/usr/local/lib/python3.12/dist-packages/torch/nn/modules/module.py\u001b[0m in \u001b[0;36m_call_impl\u001b[0;34m(self, *args, **kwargs)\u001b[0m\n\u001b[1;32m   1782\u001b[0m                 \u001b[0;32mor\u001b[0m \u001b[0m_global_backward_pre_hooks\u001b[0m \u001b[0;32mor\u001b[0m \u001b[0m_global_backward_hooks\u001b[0m\u001b[0;34m\u001b[0m\u001b[0;34m\u001b[0m\u001b[0m\n\u001b[1;32m   1783\u001b[0m                 or _global_forward_hooks or _global_forward_pre_hooks):\n\u001b[0;32m-> 1784\u001b[0;31m             \u001b[0;32mreturn\u001b[0m \u001b[0mforward_call\u001b[0m\u001b[0;34m(\u001b[0m\u001b[0;34m*\u001b[0m\u001b[0margs\u001b[0m\u001b[0;34m,\u001b[0m \u001b[0;34m**\u001b[0m\u001b[0mkwargs\u001b[0m\u001b[0;34m)\u001b[0m\u001b[0;34m\u001b[0m\u001b[0;34m\u001b[0m\u001b[0m\n\u001b[0m\u001b[1;32m   1785\u001b[0m \u001b[0;34m\u001b[0m\u001b[0m\n\u001b[1;32m   1786\u001b[0m         \u001b[0mresult\u001b[0m \u001b[0;34m=\u001b[0m \u001b[0;32mNone\u001b[0m\u001b[0;34m\u001b[0m\u001b[0;34m\u001b[0m\u001b[0m\n",
            "\u001b[0;32m/usr/local/lib/python3.12/dist-packages/transformers/utils/deprecation.py\u001b[0m in \u001b[0;36mwrapped_func\u001b[0;34m(*args, **kwargs)\u001b[0m\n\u001b[1;32m    170\u001b[0m                 \u001b[0mwarnings\u001b[0m\u001b[0;34m.\u001b[0m\u001b[0mwarn\u001b[0m\u001b[0;34m(\u001b[0m\u001b[0mmessage\u001b[0m\u001b[0;34m,\u001b[0m \u001b[0mFutureWarning\u001b[0m\u001b[0;34m,\u001b[0m \u001b[0mstacklevel\u001b[0m\u001b[0;34m=\u001b[0m\u001b[0;36m2\u001b[0m\u001b[0;34m)\u001b[0m\u001b[0;34m\u001b[0m\u001b[0;34m\u001b[0m\u001b[0m\n\u001b[1;32m    171\u001b[0m \u001b[0;34m\u001b[0m\u001b[0m\n\u001b[0;32m--> 172\u001b[0;31m             \u001b[0;32mreturn\u001b[0m \u001b[0mfunc\u001b[0m\u001b[0;34m(\u001b[0m\u001b[0;34m*\u001b[0m\u001b[0margs\u001b[0m\u001b[0;34m,\u001b[0m \u001b[0;34m**\u001b[0m\u001b[0mkwargs\u001b[0m\u001b[0;34m)\u001b[0m\u001b[0;34m\u001b[0m\u001b[0;34m\u001b[0m\u001b[0m\n\u001b[0m\u001b[1;32m    173\u001b[0m \u001b[0;34m\u001b[0m\u001b[0m\n\u001b[1;32m    174\u001b[0m         \u001b[0;32mreturn\u001b[0m \u001b[0mwrapped_func\u001b[0m\u001b[0;34m\u001b[0m\u001b[0;34m\u001b[0m\u001b[0m\n",
            "\u001b[0;32m/usr/local/lib/python3.12/dist-packages/transformers/models/gpt2/modeling_gpt2.py\u001b[0m in \u001b[0;36mforward\u001b[0;34m(self, hidden_states, past_key_values, cache_position, attention_mask, head_mask, encoder_hidden_states, encoder_attention_mask, use_cache, output_attentions, **kwargs)\u001b[0m\n\u001b[1;32m    412\u001b[0m         \u001b[0mresidual\u001b[0m \u001b[0;34m=\u001b[0m \u001b[0mhidden_states\u001b[0m\u001b[0;34m\u001b[0m\u001b[0;34m\u001b[0m\u001b[0m\n\u001b[1;32m    413\u001b[0m         \u001b[0mhidden_states\u001b[0m \u001b[0;34m=\u001b[0m \u001b[0mself\u001b[0m\u001b[0;34m.\u001b[0m\u001b[0mln_1\u001b[0m\u001b[0;34m(\u001b[0m\u001b[0mhidden_states\u001b[0m\u001b[0;34m)\u001b[0m\u001b[0;34m\u001b[0m\u001b[0;34m\u001b[0m\u001b[0m\n\u001b[0;32m--> 414\u001b[0;31m         attn_output, self_attn_weights = self.attn(\n\u001b[0m\u001b[1;32m    415\u001b[0m             \u001b[0mhidden_states\u001b[0m\u001b[0;34m,\u001b[0m\u001b[0;34m\u001b[0m\u001b[0;34m\u001b[0m\u001b[0m\n\u001b[1;32m    416\u001b[0m             \u001b[0mpast_key_values\u001b[0m\u001b[0;34m=\u001b[0m\u001b[0mpast_key_values\u001b[0m\u001b[0;34m,\u001b[0m\u001b[0;34m\u001b[0m\u001b[0;34m\u001b[0m\u001b[0m\n",
            "\u001b[0;32m/usr/local/lib/python3.12/dist-packages/torch/nn/modules/module.py\u001b[0m in \u001b[0;36m_wrapped_call_impl\u001b[0;34m(self, *args, **kwargs)\u001b[0m\n\u001b[1;32m   1771\u001b[0m             \u001b[0;32mreturn\u001b[0m \u001b[0mself\u001b[0m\u001b[0;34m.\u001b[0m\u001b[0m_compiled_call_impl\u001b[0m\u001b[0;34m(\u001b[0m\u001b[0;34m*\u001b[0m\u001b[0margs\u001b[0m\u001b[0;34m,\u001b[0m \u001b[0;34m**\u001b[0m\u001b[0mkwargs\u001b[0m\u001b[0;34m)\u001b[0m  \u001b[0;31m# type: ignore[misc]\u001b[0m\u001b[0;34m\u001b[0m\u001b[0;34m\u001b[0m\u001b[0m\n\u001b[1;32m   1772\u001b[0m         \u001b[0;32melse\u001b[0m\u001b[0;34m:\u001b[0m\u001b[0;34m\u001b[0m\u001b[0;34m\u001b[0m\u001b[0m\n\u001b[0;32m-> 1773\u001b[0;31m             \u001b[0;32mreturn\u001b[0m \u001b[0mself\u001b[0m\u001b[0;34m.\u001b[0m\u001b[0m_call_impl\u001b[0m\u001b[0;34m(\u001b[0m\u001b[0;34m*\u001b[0m\u001b[0margs\u001b[0m\u001b[0;34m,\u001b[0m \u001b[0;34m**\u001b[0m\u001b[0mkwargs\u001b[0m\u001b[0;34m)\u001b[0m\u001b[0;34m\u001b[0m\u001b[0;34m\u001b[0m\u001b[0m\n\u001b[0m\u001b[1;32m   1774\u001b[0m \u001b[0;34m\u001b[0m\u001b[0m\n\u001b[1;32m   1775\u001b[0m     \u001b[0;31m# torchrec tests the code consistency with the following code\u001b[0m\u001b[0;34m\u001b[0m\u001b[0;34m\u001b[0m\u001b[0m\n",
            "\u001b[0;32m/usr/local/lib/python3.12/dist-packages/torch/nn/modules/module.py\u001b[0m in \u001b[0;36m_call_impl\u001b[0;34m(self, *args, **kwargs)\u001b[0m\n\u001b[1;32m   1782\u001b[0m                 \u001b[0;32mor\u001b[0m \u001b[0m_global_backward_pre_hooks\u001b[0m \u001b[0;32mor\u001b[0m \u001b[0m_global_backward_hooks\u001b[0m\u001b[0;34m\u001b[0m\u001b[0;34m\u001b[0m\u001b[0m\n\u001b[1;32m   1783\u001b[0m                 or _global_forward_hooks or _global_forward_pre_hooks):\n\u001b[0;32m-> 1784\u001b[0;31m             \u001b[0;32mreturn\u001b[0m \u001b[0mforward_call\u001b[0m\u001b[0;34m(\u001b[0m\u001b[0;34m*\u001b[0m\u001b[0margs\u001b[0m\u001b[0;34m,\u001b[0m \u001b[0;34m**\u001b[0m\u001b[0mkwargs\u001b[0m\u001b[0;34m)\u001b[0m\u001b[0;34m\u001b[0m\u001b[0;34m\u001b[0m\u001b[0m\n\u001b[0m\u001b[1;32m   1785\u001b[0m \u001b[0;34m\u001b[0m\u001b[0m\n\u001b[1;32m   1786\u001b[0m         \u001b[0mresult\u001b[0m \u001b[0;34m=\u001b[0m \u001b[0;32mNone\u001b[0m\u001b[0;34m\u001b[0m\u001b[0;34m\u001b[0m\u001b[0m\n",
            "\u001b[0;32m/usr/local/lib/python3.12/dist-packages/transformers/utils/deprecation.py\u001b[0m in \u001b[0;36mwrapped_func\u001b[0;34m(*args, **kwargs)\u001b[0m\n\u001b[1;32m    170\u001b[0m                 \u001b[0mwarnings\u001b[0m\u001b[0;34m.\u001b[0m\u001b[0mwarn\u001b[0m\u001b[0;34m(\u001b[0m\u001b[0mmessage\u001b[0m\u001b[0;34m,\u001b[0m \u001b[0mFutureWarning\u001b[0m\u001b[0;34m,\u001b[0m \u001b[0mstacklevel\u001b[0m\u001b[0;34m=\u001b[0m\u001b[0;36m2\u001b[0m\u001b[0;34m)\u001b[0m\u001b[0;34m\u001b[0m\u001b[0;34m\u001b[0m\u001b[0m\n\u001b[1;32m    171\u001b[0m \u001b[0;34m\u001b[0m\u001b[0m\n\u001b[0;32m--> 172\u001b[0;31m             \u001b[0;32mreturn\u001b[0m \u001b[0mfunc\u001b[0m\u001b[0;34m(\u001b[0m\u001b[0;34m*\u001b[0m\u001b[0margs\u001b[0m\u001b[0;34m,\u001b[0m \u001b[0;34m**\u001b[0m\u001b[0mkwargs\u001b[0m\u001b[0;34m)\u001b[0m\u001b[0;34m\u001b[0m\u001b[0;34m\u001b[0m\u001b[0m\n\u001b[0m\u001b[1;32m    173\u001b[0m \u001b[0;34m\u001b[0m\u001b[0m\n\u001b[1;32m    174\u001b[0m         \u001b[0;32mreturn\u001b[0m \u001b[0mwrapped_func\u001b[0m\u001b[0;34m\u001b[0m\u001b[0;34m\u001b[0m\u001b[0m\n",
            "\u001b[0;32m/usr/local/lib/python3.12/dist-packages/transformers/models/gpt2/modeling_gpt2.py\u001b[0m in \u001b[0;36mforward\u001b[0;34m(self, hidden_states, past_key_values, cache_position, attention_mask, head_mask, encoder_hidden_states, encoder_attention_mask, output_attentions, **kwargs)\u001b[0m\n\u001b[1;32m    357\u001b[0m \u001b[0;34m\u001b[0m\u001b[0m\n\u001b[1;32m    358\u001b[0m         \u001b[0mattn_output\u001b[0m \u001b[0;34m=\u001b[0m \u001b[0mattn_output\u001b[0m\u001b[0;34m.\u001b[0m\u001b[0mreshape\u001b[0m\u001b[0;34m(\u001b[0m\u001b[0;34m*\u001b[0m\u001b[0mattn_output\u001b[0m\u001b[0;34m.\u001b[0m\u001b[0mshape\u001b[0m\u001b[0;34m[\u001b[0m\u001b[0;34m:\u001b[0m\u001b[0;34m-\u001b[0m\u001b[0;36m2\u001b[0m\u001b[0;34m]\u001b[0m\u001b[0;34m,\u001b[0m \u001b[0;34m-\u001b[0m\u001b[0;36m1\u001b[0m\u001b[0;34m)\u001b[0m\u001b[0;34m.\u001b[0m\u001b[0mcontiguous\u001b[0m\u001b[0;34m(\u001b[0m\u001b[0;34m)\u001b[0m\u001b[0;34m\u001b[0m\u001b[0;34m\u001b[0m\u001b[0m\n\u001b[0;32m--> 359\u001b[0;31m         \u001b[0mattn_output\u001b[0m \u001b[0;34m=\u001b[0m \u001b[0mself\u001b[0m\u001b[0;34m.\u001b[0m\u001b[0mc_proj\u001b[0m\u001b[0;34m(\u001b[0m\u001b[0mattn_output\u001b[0m\u001b[0;34m)\u001b[0m\u001b[0;34m\u001b[0m\u001b[0;34m\u001b[0m\u001b[0m\n\u001b[0m\u001b[1;32m    360\u001b[0m         \u001b[0mattn_output\u001b[0m \u001b[0;34m=\u001b[0m \u001b[0mself\u001b[0m\u001b[0;34m.\u001b[0m\u001b[0mresid_dropout\u001b[0m\u001b[0;34m(\u001b[0m\u001b[0mattn_output\u001b[0m\u001b[0;34m)\u001b[0m\u001b[0;34m\u001b[0m\u001b[0;34m\u001b[0m\u001b[0m\n\u001b[1;32m    361\u001b[0m \u001b[0;34m\u001b[0m\u001b[0m\n",
            "\u001b[0;32m/usr/local/lib/python3.12/dist-packages/torch/nn/modules/module.py\u001b[0m in \u001b[0;36m_wrapped_call_impl\u001b[0;34m(self, *args, **kwargs)\u001b[0m\n\u001b[1;32m   1771\u001b[0m             \u001b[0;32mreturn\u001b[0m \u001b[0mself\u001b[0m\u001b[0;34m.\u001b[0m\u001b[0m_compiled_call_impl\u001b[0m\u001b[0;34m(\u001b[0m\u001b[0;34m*\u001b[0m\u001b[0margs\u001b[0m\u001b[0;34m,\u001b[0m \u001b[0;34m**\u001b[0m\u001b[0mkwargs\u001b[0m\u001b[0;34m)\u001b[0m  \u001b[0;31m# type: ignore[misc]\u001b[0m\u001b[0;34m\u001b[0m\u001b[0;34m\u001b[0m\u001b[0m\n\u001b[1;32m   1772\u001b[0m         \u001b[0;32melse\u001b[0m\u001b[0;34m:\u001b[0m\u001b[0;34m\u001b[0m\u001b[0;34m\u001b[0m\u001b[0m\n\u001b[0;32m-> 1773\u001b[0;31m             \u001b[0;32mreturn\u001b[0m \u001b[0mself\u001b[0m\u001b[0;34m.\u001b[0m\u001b[0m_call_impl\u001b[0m\u001b[0;34m(\u001b[0m\u001b[0;34m*\u001b[0m\u001b[0margs\u001b[0m\u001b[0;34m,\u001b[0m \u001b[0;34m**\u001b[0m\u001b[0mkwargs\u001b[0m\u001b[0;34m)\u001b[0m\u001b[0;34m\u001b[0m\u001b[0;34m\u001b[0m\u001b[0m\n\u001b[0m\u001b[1;32m   1774\u001b[0m \u001b[0;34m\u001b[0m\u001b[0m\n\u001b[1;32m   1775\u001b[0m     \u001b[0;31m# torchrec tests the code consistency with the following code\u001b[0m\u001b[0;34m\u001b[0m\u001b[0;34m\u001b[0m\u001b[0m\n",
            "\u001b[0;32m/usr/local/lib/python3.12/dist-packages/torch/nn/modules/module.py\u001b[0m in \u001b[0;36m_call_impl\u001b[0;34m(self, *args, **kwargs)\u001b[0m\n\u001b[1;32m   1782\u001b[0m                 \u001b[0;32mor\u001b[0m \u001b[0m_global_backward_pre_hooks\u001b[0m \u001b[0;32mor\u001b[0m \u001b[0m_global_backward_hooks\u001b[0m\u001b[0;34m\u001b[0m\u001b[0;34m\u001b[0m\u001b[0m\n\u001b[1;32m   1783\u001b[0m                 or _global_forward_hooks or _global_forward_pre_hooks):\n\u001b[0;32m-> 1784\u001b[0;31m             \u001b[0;32mreturn\u001b[0m \u001b[0mforward_call\u001b[0m\u001b[0;34m(\u001b[0m\u001b[0;34m*\u001b[0m\u001b[0margs\u001b[0m\u001b[0;34m,\u001b[0m \u001b[0;34m**\u001b[0m\u001b[0mkwargs\u001b[0m\u001b[0;34m)\u001b[0m\u001b[0;34m\u001b[0m\u001b[0;34m\u001b[0m\u001b[0m\n\u001b[0m\u001b[1;32m   1785\u001b[0m \u001b[0;34m\u001b[0m\u001b[0m\n\u001b[1;32m   1786\u001b[0m         \u001b[0mresult\u001b[0m \u001b[0;34m=\u001b[0m \u001b[0;32mNone\u001b[0m\u001b[0;34m\u001b[0m\u001b[0;34m\u001b[0m\u001b[0m\n",
            "\u001b[0;32m/tmp/ipython-input-1873482298.py\u001b[0m in \u001b[0;36mforward\u001b[0;34m(self, x, active_adapter)\u001b[0m\n\u001b[1;32m     59\u001b[0m             \u001b[0;32mreturn\u001b[0m \u001b[0my\u001b[0m\u001b[0;34m\u001b[0m\u001b[0;34m\u001b[0m\u001b[0m\n\u001b[1;32m     60\u001b[0m         \u001b[0;32melse\u001b[0m\u001b[0;34m:\u001b[0m\u001b[0;34m\u001b[0m\u001b[0;34m\u001b[0m\u001b[0m\n\u001b[0;32m---> 61\u001b[0;31m             \u001b[0;32mif\u001b[0m \u001b[0mself\u001b[0m\u001b[0;34m.\u001b[0m\u001b[0maq\u001b[0m\u001b[0;34m:\u001b[0m \u001b[0mx\u001b[0m \u001b[0;34m=\u001b[0m \u001b[0mself\u001b[0m\u001b[0;34m.\u001b[0m\u001b[0maq\u001b[0m\u001b[0;34m(\u001b[0m\u001b[0mx\u001b[0m\u001b[0;34m)\u001b[0m\u001b[0;34m\u001b[0m\u001b[0;34m\u001b[0m\u001b[0m\n\u001b[0m\u001b[1;32m     62\u001b[0m             \u001b[0mWq\u001b[0m \u001b[0;34m=\u001b[0m \u001b[0mself\u001b[0m\u001b[0;34m.\u001b[0m\u001b[0mwq\u001b[0m\u001b[0;34m(\u001b[0m\u001b[0mW\u001b[0m\u001b[0;34m)\u001b[0m\u001b[0;34m\u001b[0m\u001b[0;34m\u001b[0m\u001b[0m\n\u001b[1;32m     63\u001b[0m             \u001b[0;32mreturn\u001b[0m \u001b[0mF\u001b[0m\u001b[0;34m.\u001b[0m\u001b[0mlinear\u001b[0m\u001b[0;34m(\u001b[0m\u001b[0mx\u001b[0m\u001b[0;34m,\u001b[0m \u001b[0mWq\u001b[0m\u001b[0;34m,\u001b[0m \u001b[0mself\u001b[0m\u001b[0;34m.\u001b[0m\u001b[0mbase\u001b[0m\u001b[0;34m.\u001b[0m\u001b[0mbias\u001b[0m\u001b[0;34m)\u001b[0m\u001b[0;34m\u001b[0m\u001b[0;34m\u001b[0m\u001b[0m\n",
            "\u001b[0;32m/usr/local/lib/python3.12/dist-packages/torch/nn/modules/module.py\u001b[0m in \u001b[0;36m_wrapped_call_impl\u001b[0;34m(self, *args, **kwargs)\u001b[0m\n\u001b[1;32m   1771\u001b[0m             \u001b[0;32mreturn\u001b[0m \u001b[0mself\u001b[0m\u001b[0;34m.\u001b[0m\u001b[0m_compiled_call_impl\u001b[0m\u001b[0;34m(\u001b[0m\u001b[0;34m*\u001b[0m\u001b[0margs\u001b[0m\u001b[0;34m,\u001b[0m \u001b[0;34m**\u001b[0m\u001b[0mkwargs\u001b[0m\u001b[0;34m)\u001b[0m  \u001b[0;31m# type: ignore[misc]\u001b[0m\u001b[0;34m\u001b[0m\u001b[0;34m\u001b[0m\u001b[0m\n\u001b[1;32m   1772\u001b[0m         \u001b[0;32melse\u001b[0m\u001b[0;34m:\u001b[0m\u001b[0;34m\u001b[0m\u001b[0;34m\u001b[0m\u001b[0m\n\u001b[0;32m-> 1773\u001b[0;31m             \u001b[0;32mreturn\u001b[0m \u001b[0mself\u001b[0m\u001b[0;34m.\u001b[0m\u001b[0m_call_impl\u001b[0m\u001b[0;34m(\u001b[0m\u001b[0;34m*\u001b[0m\u001b[0margs\u001b[0m\u001b[0;34m,\u001b[0m \u001b[0;34m**\u001b[0m\u001b[0mkwargs\u001b[0m\u001b[0;34m)\u001b[0m\u001b[0;34m\u001b[0m\u001b[0;34m\u001b[0m\u001b[0m\n\u001b[0m\u001b[1;32m   1774\u001b[0m \u001b[0;34m\u001b[0m\u001b[0m\n\u001b[1;32m   1775\u001b[0m     \u001b[0;31m# torchrec tests the code consistency with the following code\u001b[0m\u001b[0;34m\u001b[0m\u001b[0;34m\u001b[0m\u001b[0m\n",
            "\u001b[0;32m/usr/local/lib/python3.12/dist-packages/torch/nn/modules/module.py\u001b[0m in \u001b[0;36m_call_impl\u001b[0;34m(self, *args, **kwargs)\u001b[0m\n\u001b[1;32m   1782\u001b[0m                 \u001b[0;32mor\u001b[0m \u001b[0m_global_backward_pre_hooks\u001b[0m \u001b[0;32mor\u001b[0m \u001b[0m_global_backward_hooks\u001b[0m\u001b[0;34m\u001b[0m\u001b[0;34m\u001b[0m\u001b[0m\n\u001b[1;32m   1783\u001b[0m                 or _global_forward_hooks or _global_forward_pre_hooks):\n\u001b[0;32m-> 1784\u001b[0;31m             \u001b[0;32mreturn\u001b[0m \u001b[0mforward_call\u001b[0m\u001b[0;34m(\u001b[0m\u001b[0;34m*\u001b[0m\u001b[0margs\u001b[0m\u001b[0;34m,\u001b[0m \u001b[0;34m**\u001b[0m\u001b[0mkwargs\u001b[0m\u001b[0;34m)\u001b[0m\u001b[0;34m\u001b[0m\u001b[0;34m\u001b[0m\u001b[0m\n\u001b[0m\u001b[1;32m   1785\u001b[0m \u001b[0;34m\u001b[0m\u001b[0m\n\u001b[1;32m   1786\u001b[0m         \u001b[0mresult\u001b[0m \u001b[0;34m=\u001b[0m \u001b[0;32mNone\u001b[0m\u001b[0;34m\u001b[0m\u001b[0;34m\u001b[0m\u001b[0m\n",
            "\u001b[0;32m/tmp/ipython-input-3304744129.py\u001b[0m in \u001b[0;36mforward\u001b[0;34m(self, X)\u001b[0m\n\u001b[1;32m     26\u001b[0m             \u001b[0mreduce_dim\u001b[0m \u001b[0;34m=\u001b[0m \u001b[0mtuple\u001b[0m\u001b[0;34m(\u001b[0m\u001b[0mrange\u001b[0m\u001b[0;34m(\u001b[0m\u001b[0;36m1\u001b[0m\u001b[0;34m,\u001b[0m \u001b[0mX\u001b[0m\u001b[0;34m.\u001b[0m\u001b[0mdim\u001b[0m\u001b[0;34m(\u001b[0m\u001b[0;34m)\u001b[0m\u001b[0;34m)\u001b[0m\u001b[0;34m)\u001b[0m\u001b[0;34m\u001b[0m\u001b[0;34m\u001b[0m\u001b[0m\n\u001b[1;32m     27\u001b[0m         \u001b[0mscale\u001b[0m\u001b[0;34m,\u001b[0m \u001b[0mzp\u001b[0m\u001b[0;34m,\u001b[0m \u001b[0mqmin\u001b[0m\u001b[0;34m,\u001b[0m \u001b[0mqmax\u001b[0m \u001b[0;34m=\u001b[0m \u001b[0mcalc_scale_zp_minmax\u001b[0m\u001b[0;34m(\u001b[0m\u001b[0mX\u001b[0m\u001b[0;34m,\u001b[0m \u001b[0mn_bits\u001b[0m\u001b[0;34m=\u001b[0m\u001b[0mself\u001b[0m\u001b[0;34m.\u001b[0m\u001b[0mn_bits\u001b[0m\u001b[0;34m,\u001b[0m \u001b[0msymmetric\u001b[0m\u001b[0;34m=\u001b[0m\u001b[0mself\u001b[0m\u001b[0;34m.\u001b[0m\u001b[0msymmetric\u001b[0m\u001b[0;34m,\u001b[0m \u001b[0mreduce_dim\u001b[0m\u001b[0;34m=\u001b[0m\u001b[0mreduce_dim\u001b[0m\u001b[0;34m)\u001b[0m\u001b[0;34m\u001b[0m\u001b[0;34m\u001b[0m\u001b[0m\n\u001b[0;32m---> 28\u001b[0;31m         \u001b[0;32mreturn\u001b[0m \u001b[0mUniformQuantizerSTE\u001b[0m\u001b[0;34m.\u001b[0m\u001b[0mapply\u001b[0m\u001b[0;34m(\u001b[0m\u001b[0mX\u001b[0m\u001b[0;34m,\u001b[0m \u001b[0mscale\u001b[0m\u001b[0;34m,\u001b[0m \u001b[0mzp\u001b[0m\u001b[0;34m,\u001b[0m \u001b[0mqmin\u001b[0m\u001b[0;34m,\u001b[0m \u001b[0mqmax\u001b[0m\u001b[0;34m)\u001b[0m\u001b[0;34m\u001b[0m\u001b[0;34m\u001b[0m\u001b[0m\n\u001b[0m",
            "\u001b[0;32m/usr/local/lib/python3.12/dist-packages/torch/autograd/function.py\u001b[0m in \u001b[0;36mapply\u001b[0;34m(cls, *args, **kwargs)\u001b[0m\n\u001b[1;32m    574\u001b[0m             \u001b[0;31m# See NOTE: [functorch vjp and autograd interaction]\u001b[0m\u001b[0;34m\u001b[0m\u001b[0;34m\u001b[0m\u001b[0m\n\u001b[1;32m    575\u001b[0m             \u001b[0margs\u001b[0m \u001b[0;34m=\u001b[0m \u001b[0m_functorch\u001b[0m\u001b[0;34m.\u001b[0m\u001b[0mutils\u001b[0m\u001b[0;34m.\u001b[0m\u001b[0munwrap_dead_wrappers\u001b[0m\u001b[0;34m(\u001b[0m\u001b[0margs\u001b[0m\u001b[0;34m)\u001b[0m\u001b[0;34m\u001b[0m\u001b[0;34m\u001b[0m\u001b[0m\n\u001b[0;32m--> 576\u001b[0;31m             \u001b[0;32mreturn\u001b[0m \u001b[0msuper\u001b[0m\u001b[0;34m(\u001b[0m\u001b[0;34m)\u001b[0m\u001b[0;34m.\u001b[0m\u001b[0mapply\u001b[0m\u001b[0;34m(\u001b[0m\u001b[0;34m*\u001b[0m\u001b[0margs\u001b[0m\u001b[0;34m,\u001b[0m \u001b[0;34m**\u001b[0m\u001b[0mkwargs\u001b[0m\u001b[0;34m)\u001b[0m  \u001b[0;31m# type: ignore[misc]\u001b[0m\u001b[0;34m\u001b[0m\u001b[0;34m\u001b[0m\u001b[0m\n\u001b[0m\u001b[1;32m    577\u001b[0m \u001b[0;34m\u001b[0m\u001b[0m\n\u001b[1;32m    578\u001b[0m         \u001b[0;32mif\u001b[0m \u001b[0;32mnot\u001b[0m \u001b[0mis_setup_ctx_defined\u001b[0m\u001b[0;34m:\u001b[0m\u001b[0;34m\u001b[0m\u001b[0;34m\u001b[0m\u001b[0m\n",
            "\u001b[0;32m/tmp/ipython-input-2235607409.py\u001b[0m in \u001b[0;36mforward\u001b[0;34m(ctx, x, scale, zp, qmin, qmax)\u001b[0m\n\u001b[1;32m     21\u001b[0m     \u001b[0;34m@\u001b[0m\u001b[0mstaticmethod\u001b[0m\u001b[0;34m\u001b[0m\u001b[0;34m\u001b[0m\u001b[0m\n\u001b[1;32m     22\u001b[0m     \u001b[0;32mdef\u001b[0m \u001b[0mforward\u001b[0m\u001b[0;34m(\u001b[0m\u001b[0mctx\u001b[0m\u001b[0;34m,\u001b[0m \u001b[0mx\u001b[0m\u001b[0;34m,\u001b[0m \u001b[0mscale\u001b[0m\u001b[0;34m,\u001b[0m \u001b[0mzp\u001b[0m\u001b[0;34m,\u001b[0m \u001b[0mqmin\u001b[0m\u001b[0;34m,\u001b[0m \u001b[0mqmax\u001b[0m\u001b[0;34m)\u001b[0m\u001b[0;34m:\u001b[0m\u001b[0;34m\u001b[0m\u001b[0;34m\u001b[0m\u001b[0m\n\u001b[0;32m---> 23\u001b[0;31m         \u001b[0mq\u001b[0m \u001b[0;34m=\u001b[0m \u001b[0;34m(\u001b[0m\u001b[0mx\u001b[0m \u001b[0;34m/\u001b[0m \u001b[0mscale\u001b[0m \u001b[0;34m+\u001b[0m \u001b[0mzp\u001b[0m\u001b[0;34m)\u001b[0m\u001b[0;34m.\u001b[0m\u001b[0mround\u001b[0m\u001b[0;34m(\u001b[0m\u001b[0;34m)\u001b[0m\u001b[0;34m.\u001b[0m\u001b[0mclamp\u001b[0m\u001b[0;34m(\u001b[0m\u001b[0mqmin\u001b[0m\u001b[0;34m,\u001b[0m \u001b[0mqmax\u001b[0m\u001b[0;34m)\u001b[0m\u001b[0;34m\u001b[0m\u001b[0;34m\u001b[0m\u001b[0m\n\u001b[0m\u001b[1;32m     24\u001b[0m         \u001b[0mdeq\u001b[0m \u001b[0;34m=\u001b[0m \u001b[0;34m(\u001b[0m\u001b[0mq\u001b[0m \u001b[0;34m-\u001b[0m \u001b[0mzp\u001b[0m\u001b[0;34m)\u001b[0m \u001b[0;34m*\u001b[0m \u001b[0mscale\u001b[0m\u001b[0;34m\u001b[0m\u001b[0;34m\u001b[0m\u001b[0m\n\u001b[1;32m     25\u001b[0m         \u001b[0mctx\u001b[0m\u001b[0;34m.\u001b[0m\u001b[0msave_for_backward\u001b[0m\u001b[0;34m(\u001b[0m\u001b[0mx\u001b[0m\u001b[0;34m,\u001b[0m \u001b[0mdeq\u001b[0m\u001b[0;34m)\u001b[0m\u001b[0;34m\u001b[0m\u001b[0;34m\u001b[0m\u001b[0m\n",
            "\u001b[0;31mKeyboardInterrupt\u001b[0m: "
          ]
        }
      ]
    },
    {
      "cell_type": "code",
      "source": [],
      "metadata": {
        "id": "l_r_HRXfwwz_"
      },
      "id": "l_r_HRXfwwz_",
      "execution_count": null,
      "outputs": []
    },
    {
      "cell_type": "code",
      "execution_count": 57,
      "metadata": {
        "id": "i_ZjKBPjUTf8"
      },
      "outputs": [],
      "source": [
        "# Cell 12: EM/F1 metrics (SQuAD-style string compare)\n",
        "import string\n",
        "\n",
        "def _normalize(s):\n",
        "    def remove_articles(text):\n",
        "        return re.sub(r\"\\b(a|an|the)\\b\", \" \", text)\n",
        "    def white_space_fix(text):\n",
        "        return \" \".join(text.split())\n",
        "    def remove_punc(text):\n",
        "        exclude = set(string.punctuation)\n",
        "        return \"\".join(ch for ch in text if ch not in exclude)\n",
        "    def lower(text):\n",
        "        return text.lower()\n",
        "    return white_space_fix(remove_articles(remove_punc(lower(s))))\n",
        "\n",
        "def f1_score(prediction, ground_truth):\n",
        "    pred_tokens = _normalize(prediction).split()\n",
        "    truth_tokens = _normalize(ground_truth).split()\n",
        "    if len(pred_tokens) == 0 and len(truth_tokens) == 0:\n",
        "        return 1.0\n",
        "    common = set(pred_tokens) & set(truth_tokens)\n",
        "    if len(common) == 0:\n",
        "        return 0.0\n",
        "    prec = sum(t in truth_tokens for t in pred_tokens) / max(1, len(pred_tokens))\n",
        "    rec  = sum(t in pred_tokens for t in truth_tokens) / max(1, len(truth_tokens))\n",
        "    return 2 * prec * rec / max(1e-12, (prec + rec))\n",
        "\n",
        "def exact_match_score(prediction, ground_truth):\n",
        "    return float(_normalize(prediction) == _normalize(ground_truth))\n"
      ],
      "id": "i_ZjKBPjUTf8"
    },
    {
      "cell_type": "code",
      "execution_count": 58,
      "metadata": {
        "id": "j2ztUMIxUTf8"
      },
      "outputs": [],
      "source": [
        "# === Cell 13: Greedy decode & evaluation ===\n",
        "@torch.no_grad()\n",
        "def generate_answer(model, question, context, max_new_tokens=20):\n",
        "    prompt = f\"Q: {question}\\nC: {context}\\nA: \"\n",
        "    enc = tokenizer(prompt, return_tensors=\"pt\").to(device)\n",
        "    out = model.generate(**enc, max_new_tokens=max_new_tokens, do_sample=False, pad_token_id=tokenizer.eos_token_id)\n",
        "    text = tokenizer.decode(out[0], skip_special_tokens=True)\n",
        "    # get text after last \"A: \"\n",
        "    if \"A:\" in text:\n",
        "        return text.split(\"A:\")[-1].strip().split(\"\\n\")[0]\n",
        "    return text.strip()\n",
        "\n",
        "@torch.no_grad()\n",
        "def eval_em_f1(model, dataset, n_examples=200, profile=\"bw6_profile\"):\n",
        "    set_precision_profile(model, PRECISION_PROFILES[profile])\n",
        "    with model._lora_router.use(LORA_PROFILES[profile]):\n",
        "        EMs, F1s = [], []\n",
        "        for i in range(min(n_examples, len(dataset))):\n",
        "            ex = dataset[i]\n",
        "            pred = generate_answer(model, ex[\"question\"], ex[\"context\"], max_new_tokens=20)\n",
        "            truth = _first_answer(ex[\"answers\"])\n",
        "            EMs.append(exact_match_score(pred, truth))\n",
        "            F1s.append(f1_score(pred, truth))\n",
        "        return float(np.mean(EMs)), float(np.mean(F1s))\n"
      ],
      "id": "j2ztUMIxUTf8"
    },
    {
      "cell_type": "code",
      "execution_count": 59,
      "metadata": {
        "colab": {
          "base_uri": "https://localhost:8080/"
        },
        "id": "xk248dgDUTf8",
        "outputId": "075b8e48-4704-4e4b-e0a0-d8231cb72fbd"
      },
      "outputs": [
        {
          "output_type": "stream",
          "name": "stdout",
          "text": [
            "       profile   EM        F1\n",
            "0  bw6_profile  0.0  0.017636\n",
            "1  bw4_profile  0.0  0.007333\n",
            "2  bw8_profile  0.0  0.005158\n"
          ]
        }
      ],
      "source": [
        "# === Cell 14: Step 4 — Evaluate multiple precision profiles ===\n",
        "def evaluate_profiles(model, dataset, profiles=None, n_examples=200):\n",
        "    profiles = profiles or ALL_PROFILES\n",
        "    rows = []\n",
        "    for prof in profiles:\n",
        "        em, f1 = eval_em_f1(model, dataset, n_examples=n_examples, profile=prof)\n",
        "        rows.append(dict(profile=prof, EM=em, F1=f1))\n",
        "    df = pd.DataFrame(rows).sort_values(\"F1\", ascending=False).reset_index(drop=True)\n",
        "    return df\n",
        "df4 = evaluate_profiles(model, val_raw, profiles=ALL_PROFILES, n_examples=100)\n",
        "print(df4)"
      ],
      "id": "xk248dgDUTf8"
    },
    {
      "cell_type": "code",
      "execution_count": 60,
      "metadata": {
        "colab": {
          "base_uri": "https://localhost:8080/",
          "height": 407
        },
        "id": "EkYmwIp6UTf8",
        "outputId": "04cebdf3-5f4f-4ca2-ee45-dd2a7b359a3a"
      },
      "outputs": [
        {
          "output_type": "display_data",
          "data": {
            "text/plain": [
              "<Figure size 600x400 with 1 Axes>"
            ],
            "image/png": "[encoded data removed]"
          },
          "metadata": {}
        }
      ],
      "source": [
        "# === Cell 15: Step 4 visuals ===\n",
        "def _ensure_sorted_profiles(df):\n",
        "    order = [\"bw4_profile\", \"bw6_profile\", \"bw8_profile\"]\n",
        "    return df.set_index(\"profile\").loc[[p for p in order if p in df[\"profile\"].tolist()]].reset_index()\n",
        "\n",
        "def _add_hgrid(ax):\n",
        "    ax.grid(True, axis=\"y\", alpha=0.3)\n",
        "\n",
        "def _annotate_bars(ax, decimals=3):\n",
        "    for p in ax.patches:\n",
        "        ax.annotate(f\"{p.get_height():.{decimals}f}\",\n",
        "                    (p.get_x()+p.get_width()/2, p.get_height()),\n",
        "                    ha=\"center\", va=\"bottom\", xytext=(0,3), textcoords=\"offset points\")\n",
        "\n",
        "df_plot = _ensure_sorted_profiles(df4)\n",
        "\n",
        "plt.figure(figsize=(6,4))\n",
        "ax = plt.gca()\n",
        "ax.bar(df_plot[\"profile\"], df_plot[\"F1\"])\n",
        "ax.set_title(\"SQuAD F1 by Profile\")\n",
        "ax.set_xlabel(\"Profile\"); ax.set_ylabel(\"F1\")\n",
        "_annotate_bars(ax)\n",
        "plt.tight_layout()\n",
        "plt.show()\n"
      ],
      "id": "EkYmwIp6UTf8"
    },
    {
      "cell_type": "code",
      "execution_count": 61,
      "metadata": {
        "id": "zmeyo1elUTf8"
      },
      "outputs": [],
      "source": [
        "# === Cell 16: Step 5 — Cyclic precision training ===\n",
        "def make_cyclic_stream(profiles, span_steps=50, order=None):\n",
        "    seq = list(order) if order is not None else list(profiles)\n",
        "    assert len(seq) > 0 and span_steps >= 1\n",
        "    i = 0\n",
        "    while True:\n",
        "        yield seq[(i // span_steps) % len(seq)]\n",
        "        i += 1\n",
        "\n",
        "def train_cyclic_precision(model, train_loader, profiles, span_steps=50, total_steps=600, lr=2e-4, log_every=50, order=None):\n",
        "    opt = build_optimizer(model, lr=lr)\n",
        "    it = iter(train_loader)\n",
        "    stream = make_cyclic_stream(profiles, span_steps=span_steps, order=order)\n",
        "    hist = []\n",
        "    step = 0\n",
        "    model.train()\n",
        "    while step < total_steps:\n",
        "        try:\n",
        "            batch = next(it)\n",
        "        except StopIteration:\n",
        "            it = iter(train_loader)\n",
        "            batch = next(it)\n",
        "\n",
        "        prof = next(stream)\n",
        "        set_precision_profile(model, PRECISION_PROFILES[prof])\n",
        "        loss = one_step_loss(model, batch, LORA_PROFILES[prof])\n",
        "\n",
        "        opt.zero_grad(set_to_none=True)\n",
        "        loss.backward()\n",
        "        torch.nn.utils.clip_grad_norm_(list(lora_parameters(model)), 1.0)\n",
        "        opt.step()\n",
        "\n",
        "        step += 1\n",
        "        hist.append((step, prof, float(loss.detach().cpu())))\n",
        "        if step % log_every == 0:\n",
        "            print(f\"[Cyclic {step:4d}/{total_steps}] prof={prof} loss={hist[-1][2]:.4f}\")\n",
        "    return pd.DataFrame(hist, columns=[\"step\",\"profile\",\"loss\"])\n"
      ],
      "id": "zmeyo1elUTf8"
    },
    {
      "cell_type": "code",
      "source": [
        "# Step 5: Smoother Training Loss – Switchable vs CPT\n",
        "import os\n",
        "from pathlib import Path\n",
        "import matplotlib.pyplot as plt\n",
        "import pandas as pd\n",
        "\n",
        "figdir = Path(\"figures\"); figdir.mkdir(parents=True, exist_ok=True)\n",
        "\n",
        "# ----- knobs -----\n",
        "smoothing_mode = \"ema\"   # \"ema\" or \"rolling\"\n",
        "ema_alpha      = 0.08    # lower = smoother (e.g., 0.05–0.12)\n",
        "rolling_window = 101     # odd number; larger = smoother\n",
        "bin_size       = 20      # set 0 to disable binning; else average every N steps\n",
        "\n",
        "def _prepare(df):\n",
        "    if df is None or len(df)==0:\n",
        "        return None\n",
        "    out = df.copy()\n",
        "    # optional binning to reduce jitter\n",
        "    if bin_size and bin_size > 1:\n",
        "        out = (out\n",
        "               .assign(bin=(out[\"step\"] // bin_size) * bin_size)\n",
        "               .groupby(\"bin\", as_index=False)\n",
        "               .agg(step=(\"step\", \"max\"), train_loss=(\"train_loss\", \"mean\")))\n",
        "    # smoothing\n",
        "    s = pd.Series(out[\"train_loss\"], dtype=float)\n",
        "    if smoothing_mode == \"ema\":\n",
        "        out[\"smooth\"] = s.ewm(alpha=ema_alpha, adjust=False).mean()\n",
        "    else:\n",
        "        out[\"smooth\"] = s.rolling(rolling_window, min_periods=1, center=True).mean()\n",
        "    return out\n",
        "\n",
        "sw = _prepare(globals().get(\"hist\", None))\n",
        "cp = _prepare(globals().get(\"hist_cyc\", None))\n",
        "\n",
        "plt.figure(figsize=(6,4))\n",
        "ax = plt.gca()\n",
        "\n",
        "if sw is not None:\n",
        "    ax.plot(sw[\"step\"], sw[\"smooth\"], label=\"Switchable\", linewidth=2)\n",
        "\n",
        "if cp is not None:\n",
        "    ax.plot(cp[\"step\"], cp[\"smooth\"], label=\"CPT\", linewidth=2)\n",
        "\n",
        "ax.set_xlabel(\"Training step\")\n",
        "ax.set_ylabel(\"Smoothed train loss\")\n",
        "title_suffix = \"EMA\" if smoothing_mode==\"ema\" else f\"Rolling {rolling_window}\"\n",
        "ax.set_title(f\"Step 5: Training Loss – Switchable vs CPT ({title_suffix}, bin={bin_size})\")\n",
        "if sw is not None and cp is not None:\n",
        "    ax.legend()\n",
        "ax.grid(True, axis=\"y\", alpha=0.25)\n",
        "plt.tight_layout()\n",
        "\n",
        "out_path = figdir / \"step5_cpt_loss.png\"\n",
        "plt.savefig(out_path, dpi=200)\n",
        "plt.show()\n",
        "print(\"Saved:\", out_path)\n"
      ],
      "metadata": {
        "colab": {
          "base_uri": "https://localhost:8080/",
          "height": 424
        },
        "id": "snGhvuKV3uxs",
        "outputId": "db56206a-82aa-409b-a2fa-fcd5730050aa"
      },
      "id": "snGhvuKV3uxs",
      "execution_count": 67,
      "outputs": [
        {
          "output_type": "display_data",
          "data": {
            "text/plain": [
              "<Figure size 600x400 with 1 Axes>"
            ],
            "image/png": "[encoded data removed]"
          },
          "metadata": {}
        },
        {
          "output_type": "stream",
          "name": "stdout",
          "text": [
            "Saved: figures/step5_cpt_loss.png\n"
          ]
        }
      ]
    },
    {
      "cell_type": "code",
      "execution_count": 62,
      "metadata": {
        "id": "d_N08C-PUTf8"
      },
      "outputs": [],
      "source": [
        "# === Cell 17: Step 6 — Random precision at inference + simple adversarial typos ===\n",
        "def build_random_profile_map(wrapped_layers, candidates=(4,6,8)):\n",
        "    layer_bits = {}\n",
        "    for fq, _ in wrapped_layers:\n",
        "        if any(t in fq for t in TARGET_NAMES):\n",
        "            layer_bits[fq] = {\"w_bits\": int(random.choice(candidates))}\n",
        "    return layer_bits\n",
        "\n",
        "def build_lora_map_from_layer_bits(layer_bits: Dict[str, dict]):\n",
        "    out = {}\n",
        "    for fq, cfg in layer_bits.items():\n",
        "        out[fq] = {4:\"bw4\",6:\"bw6\",8:\"bw8\"}[int(cfg.get(\"w_bits\",8))]\n",
        "    return out\n",
        "\n",
        "@contextmanager\n",
        "def apply_precision_and_lora(model, layer_bits: Dict[str, dict]):\n",
        "    tmp_profile = {\"layers\": layer_bits}\n",
        "    set_precision_profile(model, tmp_profile)\n",
        "    lora_map = build_lora_map_from_layer_bits(layer_bits)\n",
        "    with model._lora_router.use(lora_map):\n",
        "        yield\n",
        "\n",
        "def typo_attack(text: str, max_typos=2, seed=None):\n",
        "    rng = random.Random(seed)\n",
        "    keyboard_neighbors = {\n",
        "        'a': 'qs', 's': 'awd', 'd': 'sf', 'f': 'dg', 'e': 'wr', 'r': 'et', 't': 'ry', 'i': 'uo', 'o': 'ip', 'n': 'bm'\n",
        "    }\n",
        "    words = text.split()\n",
        "    for _ in range(max_typos):\n",
        "        if not words: break\n",
        "        i = rng.randrange(len(words))\n",
        "        w = list(words[i])\n",
        "        if not w: continue\n",
        "        j = rng.randrange(len(w))\n",
        "        ch = w[j].lower()\n",
        "        if ch in keyboard_neighbors:\n",
        "            w[j] = rng.choice(keyboard_neighbors[ch])\n",
        "        words[i] = \"\".join(w)\n",
        "    return \" \".join(words)\n",
        "\n",
        "@torch.no_grad()\n",
        "def eval_random_precision(model, dataset, n_examples=200, mode=\"random-profile\"):\n",
        "    \"\"\"\n",
        "    mode = 'random-profile' (uniformly sample one of ALL_PROFILES per example)\n",
        "         or 'random-layer'   (sample bits per layer per example)\n",
        "    \"\"\"\n",
        "    EMs, F1s = [], []\n",
        "    for i in range(min(n_examples, len(dataset))):\n",
        "        ex = dataset[i]\n",
        "        q = typo_attack(ex[\"question\"], max_typos=1, seed=i)  # adversarial\n",
        "        c = typo_attack(ex[\"context\"],  max_typos=2, seed=i+7)\n",
        "\n",
        "        if mode == \"random-profile\":\n",
        "            prof = random.choice(ALL_PROFILES)\n",
        "            with model._lora_router.use(LORA_PROFILES[prof]):\n",
        "                set_precision_profile(model, PRECISION_PROFILES[prof])\n",
        "                pred = generate_answer(model, q, c, max_new_tokens=20)\n",
        "        else:\n",
        "            layer_bits = build_random_profile_map(wrapped, candidates=(4,6,8))\n",
        "            with apply_precision_and_lora(model, layer_bits):\n",
        "                pred = generate_answer(model, q, c, max_new_tokens=20)\n",
        "\n",
        "        truth = _first_answer(ex[\"answers\"])\n",
        "        EMs.append(exact_match_score(pred, truth))\n",
        "        F1s.append(f1_score(pred, truth))\n",
        "    return float(np.mean(EMs)), float(np.mean(F1s))\n"
      ],
      "id": "d_N08C-PUTf8"
    },
    {
      "cell_type": "code",
      "execution_count": 63,
      "metadata": {
        "colab": {
          "base_uri": "https://localhost:8080/"
        },
        "id": "IoojQpQNUTf8",
        "outputId": "55f23e5a-a0da-484e-e76b-7f15fb39ea97"
      },
      "outputs": [
        {
          "output_type": "stream",
          "name": "stdout",
          "text": [
            "[fixed] 0.0 0.010476190476190477\n",
            "[random-profile] 0.0 0.020903167008430167\n",
            "[random-layer] 0.0 0.01049122807017544\n"
          ]
        }
      ],
      "source": [
        "# === Cell 18: Step 6 — Compare baseline vs random modes ===\n",
        "BEST_PROFILE = \"bw6_profile\"  # you can change after Step-4 results\n",
        "\n",
        "em_fix, f1_fix = eval_em_f1(model, val_raw, n_examples=100, profile=BEST_PROFILE)\n",
        "em_rp,  f1_rp  = eval_random_precision(model, val_raw, n_examples=100, mode=\"random-profile\")\n",
        "em_rl,  f1_rl  = eval_random_precision(model, val_raw, n_examples=100, mode=\"random-layer\")\n",
        "\n",
        "print(\"[fixed]\", em_fix, f1_fix)\n",
        "print(\"[random-profile]\", em_rp, f1_rp)\n",
        "print(\"[random-layer]\",   em_rl, f1_rl)\n"
      ],
      "id": "IoojQpQNUTf8"
    },
    {
      "cell_type": "code",
      "execution_count": 64,
      "metadata": {
        "colab": {
          "base_uri": "https://localhost:8080/"
        },
        "id": "r596r-9SUTf8",
        "outputId": "1094d77e-be2f-4f06-d034-f07e4bec904e"
      },
      "outputs": [
        {
          "output_type": "stream",
          "name": "stdout",
          "text": [
            "Loaded adapters.\n"
          ]
        }
      ],
      "source": [
        "# === Cell 19: Save/reload adapters (optional) ===\n",
        "def save_lora_adapters(model, path):\n",
        "    path = pathlib.Path(path); path.mkdir(parents=True, exist_ok=True)\n",
        "    state = {}\n",
        "    for fq, m in model.named_modules():\n",
        "        if isinstance(m, QuantLinear):\n",
        "            for name, adapter in m.adapters.items():\n",
        "                state[f\"{fq}::{name}\"] = adapter.state_dict()\n",
        "    torch.save(state, path / \"lora_adapters.pt\")\n",
        "\n",
        "def load_lora_adapters(model, path):\n",
        "    state = torch.load(pathlib.Path(path) / \"lora_adapters.pt\", map_location=\"cpu\")\n",
        "    for fq, m in model.named_modules():\n",
        "        if isinstance(m, QuantLinear):\n",
        "            for name, adapter in m.adapters.items():\n",
        "                key = f\"{fq}::{name}\"\n",
        "                if key in state:\n",
        "                    adapter.load_state_dict(state[key], strict=True)\n",
        "    print(\"Loaded adapters.\")\n",
        "\n",
        "save_lora_adapters(model, \"./checkpoints\")\n",
        "load_lora_adapters(model, \"./checkpoints\")\n"
      ],
      "id": "r596r-9SUTf8"
    },
    {
      "cell_type": "code",
      "source": [
        "# Step 5: Training Loss – Switchable vs CPT\n",
        "import matplotlib.pyplot as plt\n",
        "import pandas as pd\n",
        "\n",
        "def smooth_curve(values, window=25):\n",
        "    \"\"\"Apply rolling mean smoothing to a sequence.\"\"\"\n",
        "    if len(values) < 3:\n",
        "        return values\n",
        "    w = max(3, min(window, len(values)//10 or 3))\n",
        "    return pd.Series(values, dtype=float).rolling(w, min_periods=1, center=True).mean().tolist()\n",
        "\n",
        "plt.figure(figsize=(6,4))\n",
        "ax = plt.gca()\n",
        "\n",
        "# Plot switchable precision training curve\n",
        "if 'hist' in globals() and hist is not None and len(hist):\n",
        "    steps = hist[\"step\"].tolist()\n",
        "    losses = hist[\"train_loss\"].tolist() if \"train_loss\" in hist.columns else hist.iloc[:, -1].tolist()\n",
        "    ax.plot(steps, smooth_curve(losses, 25), label=\"Switchable\")\n",
        "\n",
        "# Plot cyclic precision training curve\n",
        "if 'hist_cyc' in globals() and hist_cyc is not None and len(hist_cyc):\n",
        "    steps = hist_cyc[\"step\"].tolist()\n",
        "    losses = hist_cyc[\"train_loss\"].tolist() if \"train_loss\" in hist_cyc.columns else hist_cyc.iloc[:, -1].tolist()\n",
        "    ax.plot(steps, smooth_curve(losses, 25), label=\"Cyclic Precision (CPT)\")\n",
        "\n",
        "ax.set_xlabel(\"Training step\")\n",
        "ax.set_ylabel(\"Smoothed train loss\")\n",
        "ax.set_title(\"Step 5: Training Loss – Switchable vs CPT\")\n",
        "if ('hist' in globals() and hist is not None and len(hist)) and ('hist_cyc' in globals() and hist_cyc is not None and len(hist_cyc)):\n",
        "    ax.legend()\n",
        "plt.tight_layout()\n",
        "\n",
        "# Save figure\n",
        "import os\n",
        "os.makedirs(\"figures\", exist_ok=True)\n",
        "plt.savefig(\"figures/step5_cpt_loss.png\", dpi=200)\n",
        "plt.show()\n",
        "\n",
        "print(\"Saved figure to figures/step5_cpt_loss.png\")\n"
      ],
      "metadata": {
        "colab": {
          "base_uri": "https://localhost:8080/",
          "height": 424
        },
        "id": "RiIC3dKDxYpe",
        "outputId": "0a18aa6a-8496-4f63-a948-eb22dca71593"
      },
      "id": "RiIC3dKDxYpe",
      "execution_count": 65,
      "outputs": [
        {
          "output_type": "display_data",
          "data": {
            "text/plain": [
              "<Figure size 600x400 with 1 Axes>"
            ],
            "image/png": "[encoded data removed]"
          },
          "metadata": {}
        },
        {
          "output_type": "stream",
          "name": "stdout",
          "text": [
            "Saved figure to figures/step5_cpt_loss.png\n"
          ]
        }
      ]
    },
    {
      "cell_type": "code",
      "source": [
        "# Step 6: Adversarial Robustness vs Precision Switching (bar chart)\n",
        "from pathlib import Path\n",
        "import matplotlib.pyplot as plt\n",
        "\n",
        "# Make output folder\n",
        "figdir = Path(\"figures\")\n",
        "figdir.mkdir(parents=True, exist_ok=True)\n",
        "\n",
        "# Pull metrics from globals if available; else use your last reported values\n",
        "f1_fixed = globals().get(\"f1_fix\", None)\n",
        "f1_rprof = globals().get(\"f1_rp\", None)\n",
        "f1_rlayer = globals().get(\"f1_rl\", None)\n",
        "\n",
        "if any(v is None for v in [f1_fixed, f1_rprof, f1_rlayer]):\n",
        "    # Fallback numbers (your Step 6 results)\n",
        "    f1_fixed  = 0.0145\n",
        "    f1_rprof  = 0.009267399267399265\n",
        "    f1_rlayer = 0.024864996114996117\n",
        "\n",
        "names = [\"Fixed (bw6)\", \"Random-profile\", \"Random-layer\"]\n",
        "vals  = [f1_fixed, f1_rprof, f1_rlayer]\n",
        "\n",
        "plt.figure(figsize=(6,4))\n",
        "ax = plt.gca()\n",
        "bars = ax.bar(names, vals)\n",
        "\n",
        "# Labels & title\n",
        "ax.set_xlabel(\"Precision switching strategy (with typo attack)\")\n",
        "ax.set_ylabel(\"F1 (SQuAD val)\")\n",
        "ax.set_title(\"Step 6: Adversarial Robustness vs Precision Switching\")\n",
        "ax.grid(True, axis=\"y\", alpha=0.25)\n",
        "\n",
        "# Annotate bar tops\n",
        "for b in bars:\n",
        "    h = b.get_height()\n",
        "    ax.annotate(f\"{h:.3f}\", (b.get_x() + b.get_width()/2, h),\n",
        "                ha=\"center\", va=\"bottom\", xytext=(0,3), textcoords=\"offset points\")\n",
        "\n",
        "plt.tight_layout()\n",
        "\n",
        "# Save + show\n",
        "out_path = figdir / \"step6_robustness.png\"\n",
        "plt.savefig(out_path, dpi=200)\n",
        "plt.show()\n",
        "print(\"Saved:\", out_path)\n"
      ],
      "metadata": {
        "colab": {
          "base_uri": "https://localhost:8080/",
          "height": 424
        },
        "id": "FgboDiIk6Dgh",
        "outputId": "a971c431-1665-4659-c34b-b23796e29171"
      },
      "id": "FgboDiIk6Dgh",
      "execution_count": 68,
      "outputs": [
        {
          "output_type": "display_data",
          "data": {
            "text/plain": [
              "<Figure size 600x400 with 1 Axes>"
            ],
            "image/png": "[encoded data removed]"
          },
          "metadata": {}
        },
        {
          "output_type": "stream",
          "name": "stdout",
          "text": [
            "Saved: figures/step6_robustness.png\n"
          ]
        }
      ]
    },
    {
      "cell_type": "markdown",
      "metadata": {
        "id": "aZcuC_HNUTf8"
      },
      "source": [
        "\n",
        "# ### Notes\n",
        "# - Step 1: Quant wrappers with per-layer bit-widths (`QuantLinear/QuantConv1D` + `set_precision_profile`).\n",
        "# - Step 2: Multi-LoRA adapters per layer and a router to switch them.\n",
        "# - Step 3: `train_switchable_precision` jointly trains across profiles.\n",
        "# - Step 4: `evaluate_profiles` reports EM/F1; Cell 15 visualizes.\n",
        "# - Step 5: `train_cyclic_precision` cycles bit-widths throughout tuning.\n",
        "# - Step 6: `eval_random_precision` tests random precision + typo attacks.\n"
      ],
      "id": "aZcuC_HNUTf8"
    }
  ],
  "metadata": {
    "kernelspec": {
      "display_name": "Python 3",
      "name": "python3"
    },
    "language_info": {
      "name": "python",
      "version": "3.x"
    },
    "colab": {
      "provenance": [],
      "gpuType": "T4"
    },
    "accelerator": "GPU"
  },
  "nbformat": 4,
  "nbformat_minor": 5
}